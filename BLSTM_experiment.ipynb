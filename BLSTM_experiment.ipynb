{
  "nbformat": 4,
  "nbformat_minor": 0,
  "metadata": {
    "colab": {
      "name": "BLSTM_experiment.ipynb",
      "provenance": [],
      "collapsed_sections": [],
      "machine_shape": "hm",
      "authorship_tag": "ABX9TyPbMQP5uFZd4Tbe/NTcdaEY",
      "include_colab_link": true
    },
    "kernelspec": {
      "name": "python3",
      "display_name": "Python 3"
    },
    "accelerator": "GPU",
    "widgets": {
      "application/vnd.jupyter.widget-state+json": {
        "230c49abdd4f449ab788cf644df9d578": {
          "model_module": "@jupyter-widgets/controls",
          "model_name": "HBoxModel",
          "state": {
            "_view_name": "HBoxView",
            "_dom_classes": [],
            "_model_name": "HBoxModel",
            "_view_module": "@jupyter-widgets/controls",
            "_model_module_version": "1.5.0",
            "_view_count": null,
            "_view_module_version": "1.5.0",
            "box_style": "",
            "layout": "IPY_MODEL_79dfc0b263ab40199965fe0fce99b0a2",
            "_model_module": "@jupyter-widgets/controls",
            "children": [
              "IPY_MODEL_c431ce39617a4f02a899cd8e36d63622",
              "IPY_MODEL_13e4571de0d643279e8490fe2076a348"
            ]
          }
        },
        "79dfc0b263ab40199965fe0fce99b0a2": {
          "model_module": "@jupyter-widgets/base",
          "model_name": "LayoutModel",
          "state": {
            "_view_name": "LayoutView",
            "grid_template_rows": null,
            "right": null,
            "justify_content": null,
            "_view_module": "@jupyter-widgets/base",
            "overflow": null,
            "_model_module_version": "1.2.0",
            "_view_count": null,
            "flex_flow": null,
            "width": null,
            "min_width": null,
            "border": null,
            "align_items": null,
            "bottom": null,
            "_model_module": "@jupyter-widgets/base",
            "top": null,
            "grid_column": null,
            "overflow_y": null,
            "overflow_x": null,
            "grid_auto_flow": null,
            "grid_area": null,
            "grid_template_columns": null,
            "flex": null,
            "_model_name": "LayoutModel",
            "justify_items": null,
            "grid_row": null,
            "max_height": null,
            "align_content": null,
            "visibility": null,
            "align_self": null,
            "height": null,
            "min_height": null,
            "padding": null,
            "grid_auto_rows": null,
            "grid_gap": null,
            "max_width": null,
            "order": null,
            "_view_module_version": "1.2.0",
            "grid_template_areas": null,
            "object_position": null,
            "object_fit": null,
            "grid_auto_columns": null,
            "margin": null,
            "display": null,
            "left": null
          }
        },
        "c431ce39617a4f02a899cd8e36d63622": {
          "model_module": "@jupyter-widgets/controls",
          "model_name": "FloatProgressModel",
          "state": {
            "_view_name": "ProgressView",
            "style": "IPY_MODEL_b8e33879b13146f183579e38af22e08b",
            "_dom_classes": [],
            "description": "100%",
            "_model_name": "FloatProgressModel",
            "bar_style": "success",
            "max": 3696,
            "_view_module": "@jupyter-widgets/controls",
            "_model_module_version": "1.5.0",
            "value": 3696,
            "_view_count": null,
            "_view_module_version": "1.5.0",
            "orientation": "horizontal",
            "min": 0,
            "description_tooltip": null,
            "_model_module": "@jupyter-widgets/controls",
            "layout": "IPY_MODEL_b12f06eafdbe4723bde3e8107518719f"
          }
        },
        "13e4571de0d643279e8490fe2076a348": {
          "model_module": "@jupyter-widgets/controls",
          "model_name": "HTMLModel",
          "state": {
            "_view_name": "HTMLView",
            "style": "IPY_MODEL_c969df16b2a94d5f8c9ef8cb7c682430",
            "_dom_classes": [],
            "description": "",
            "_model_name": "HTMLModel",
            "placeholder": "​",
            "_view_module": "@jupyter-widgets/controls",
            "_model_module_version": "1.5.0",
            "value": " 3696/3696 [03:45&lt;00:00, 16.36it/s]",
            "_view_count": null,
            "_view_module_version": "1.5.0",
            "description_tooltip": null,
            "_model_module": "@jupyter-widgets/controls",
            "layout": "IPY_MODEL_a470fed21d5c44c7aa14d3100f969a42"
          }
        },
        "b8e33879b13146f183579e38af22e08b": {
          "model_module": "@jupyter-widgets/controls",
          "model_name": "ProgressStyleModel",
          "state": {
            "_view_name": "StyleView",
            "_model_name": "ProgressStyleModel",
            "description_width": "initial",
            "_view_module": "@jupyter-widgets/base",
            "_model_module_version": "1.5.0",
            "_view_count": null,
            "_view_module_version": "1.2.0",
            "bar_color": null,
            "_model_module": "@jupyter-widgets/controls"
          }
        },
        "b12f06eafdbe4723bde3e8107518719f": {
          "model_module": "@jupyter-widgets/base",
          "model_name": "LayoutModel",
          "state": {
            "_view_name": "LayoutView",
            "grid_template_rows": null,
            "right": null,
            "justify_content": null,
            "_view_module": "@jupyter-widgets/base",
            "overflow": null,
            "_model_module_version": "1.2.0",
            "_view_count": null,
            "flex_flow": null,
            "width": null,
            "min_width": null,
            "border": null,
            "align_items": null,
            "bottom": null,
            "_model_module": "@jupyter-widgets/base",
            "top": null,
            "grid_column": null,
            "overflow_y": null,
            "overflow_x": null,
            "grid_auto_flow": null,
            "grid_area": null,
            "grid_template_columns": null,
            "flex": null,
            "_model_name": "LayoutModel",
            "justify_items": null,
            "grid_row": null,
            "max_height": null,
            "align_content": null,
            "visibility": null,
            "align_self": null,
            "height": null,
            "min_height": null,
            "padding": null,
            "grid_auto_rows": null,
            "grid_gap": null,
            "max_width": null,
            "order": null,
            "_view_module_version": "1.2.0",
            "grid_template_areas": null,
            "object_position": null,
            "object_fit": null,
            "grid_auto_columns": null,
            "margin": null,
            "display": null,
            "left": null
          }
        },
        "c969df16b2a94d5f8c9ef8cb7c682430": {
          "model_module": "@jupyter-widgets/controls",
          "model_name": "DescriptionStyleModel",
          "state": {
            "_view_name": "StyleView",
            "_model_name": "DescriptionStyleModel",
            "description_width": "",
            "_view_module": "@jupyter-widgets/base",
            "_model_module_version": "1.5.0",
            "_view_count": null,
            "_view_module_version": "1.2.0",
            "_model_module": "@jupyter-widgets/controls"
          }
        },
        "a470fed21d5c44c7aa14d3100f969a42": {
          "model_module": "@jupyter-widgets/base",
          "model_name": "LayoutModel",
          "state": {
            "_view_name": "LayoutView",
            "grid_template_rows": null,
            "right": null,
            "justify_content": null,
            "_view_module": "@jupyter-widgets/base",
            "overflow": null,
            "_model_module_version": "1.2.0",
            "_view_count": null,
            "flex_flow": null,
            "width": null,
            "min_width": null,
            "border": null,
            "align_items": null,
            "bottom": null,
            "_model_module": "@jupyter-widgets/base",
            "top": null,
            "grid_column": null,
            "overflow_y": null,
            "overflow_x": null,
            "grid_auto_flow": null,
            "grid_area": null,
            "grid_template_columns": null,
            "flex": null,
            "_model_name": "LayoutModel",
            "justify_items": null,
            "grid_row": null,
            "max_height": null,
            "align_content": null,
            "visibility": null,
            "align_self": null,
            "height": null,
            "min_height": null,
            "padding": null,
            "grid_auto_rows": null,
            "grid_gap": null,
            "max_width": null,
            "order": null,
            "_view_module_version": "1.2.0",
            "grid_template_areas": null,
            "object_position": null,
            "object_fit": null,
            "grid_auto_columns": null,
            "margin": null,
            "display": null,
            "left": null
          }
        },
        "6c6f538ba3d54aa4a66915d118dc1825": {
          "model_module": "@jupyter-widgets/controls",
          "model_name": "HBoxModel",
          "state": {
            "_view_name": "HBoxView",
            "_dom_classes": [],
            "_model_name": "HBoxModel",
            "_view_module": "@jupyter-widgets/controls",
            "_model_module_version": "1.5.0",
            "_view_count": null,
            "_view_module_version": "1.5.0",
            "box_style": "",
            "layout": "IPY_MODEL_d2c04dce69b64059851d00b0d8086398",
            "_model_module": "@jupyter-widgets/controls",
            "children": [
              "IPY_MODEL_b7a8e16234804c72a4ddde5b4d2bca6d",
              "IPY_MODEL_fd23b1cda82e43e28e5c2e56a765101d"
            ]
          }
        },
        "d2c04dce69b64059851d00b0d8086398": {
          "model_module": "@jupyter-widgets/base",
          "model_name": "LayoutModel",
          "state": {
            "_view_name": "LayoutView",
            "grid_template_rows": null,
            "right": null,
            "justify_content": null,
            "_view_module": "@jupyter-widgets/base",
            "overflow": null,
            "_model_module_version": "1.2.0",
            "_view_count": null,
            "flex_flow": null,
            "width": null,
            "min_width": null,
            "border": null,
            "align_items": null,
            "bottom": null,
            "_model_module": "@jupyter-widgets/base",
            "top": null,
            "grid_column": null,
            "overflow_y": null,
            "overflow_x": null,
            "grid_auto_flow": null,
            "grid_area": null,
            "grid_template_columns": null,
            "flex": null,
            "_model_name": "LayoutModel",
            "justify_items": null,
            "grid_row": null,
            "max_height": null,
            "align_content": null,
            "visibility": null,
            "align_self": null,
            "height": null,
            "min_height": null,
            "padding": null,
            "grid_auto_rows": null,
            "grid_gap": null,
            "max_width": null,
            "order": null,
            "_view_module_version": "1.2.0",
            "grid_template_areas": null,
            "object_position": null,
            "object_fit": null,
            "grid_auto_columns": null,
            "margin": null,
            "display": null,
            "left": null
          }
        },
        "b7a8e16234804c72a4ddde5b4d2bca6d": {
          "model_module": "@jupyter-widgets/controls",
          "model_name": "FloatProgressModel",
          "state": {
            "_view_name": "ProgressView",
            "style": "IPY_MODEL_1079e04a60f242c5b6cd8779757c9089",
            "_dom_classes": [],
            "description": "100%",
            "_model_name": "FloatProgressModel",
            "bar_style": "success",
            "max": 3696,
            "_view_module": "@jupyter-widgets/controls",
            "_model_module_version": "1.5.0",
            "value": 3696,
            "_view_count": null,
            "_view_module_version": "1.5.0",
            "orientation": "horizontal",
            "min": 0,
            "description_tooltip": null,
            "_model_module": "@jupyter-widgets/controls",
            "layout": "IPY_MODEL_e3c167a294464f368077a6972c226368"
          }
        },
        "fd23b1cda82e43e28e5c2e56a765101d": {
          "model_module": "@jupyter-widgets/controls",
          "model_name": "HTMLModel",
          "state": {
            "_view_name": "HTMLView",
            "style": "IPY_MODEL_099b7f596fba40b18b945278fcf9f153",
            "_dom_classes": [],
            "description": "",
            "_model_name": "HTMLModel",
            "placeholder": "​",
            "_view_module": "@jupyter-widgets/controls",
            "_model_module_version": "1.5.0",
            "value": " 3696/3696 [02:30&lt;00:00, 24.50it/s]",
            "_view_count": null,
            "_view_module_version": "1.5.0",
            "description_tooltip": null,
            "_model_module": "@jupyter-widgets/controls",
            "layout": "IPY_MODEL_c35f9b7789af4e678c1251e9ad362ca5"
          }
        },
        "1079e04a60f242c5b6cd8779757c9089": {
          "model_module": "@jupyter-widgets/controls",
          "model_name": "ProgressStyleModel",
          "state": {
            "_view_name": "StyleView",
            "_model_name": "ProgressStyleModel",
            "description_width": "initial",
            "_view_module": "@jupyter-widgets/base",
            "_model_module_version": "1.5.0",
            "_view_count": null,
            "_view_module_version": "1.2.0",
            "bar_color": null,
            "_model_module": "@jupyter-widgets/controls"
          }
        },
        "e3c167a294464f368077a6972c226368": {
          "model_module": "@jupyter-widgets/base",
          "model_name": "LayoutModel",
          "state": {
            "_view_name": "LayoutView",
            "grid_template_rows": null,
            "right": null,
            "justify_content": null,
            "_view_module": "@jupyter-widgets/base",
            "overflow": null,
            "_model_module_version": "1.2.0",
            "_view_count": null,
            "flex_flow": null,
            "width": null,
            "min_width": null,
            "border": null,
            "align_items": null,
            "bottom": null,
            "_model_module": "@jupyter-widgets/base",
            "top": null,
            "grid_column": null,
            "overflow_y": null,
            "overflow_x": null,
            "grid_auto_flow": null,
            "grid_area": null,
            "grid_template_columns": null,
            "flex": null,
            "_model_name": "LayoutModel",
            "justify_items": null,
            "grid_row": null,
            "max_height": null,
            "align_content": null,
            "visibility": null,
            "align_self": null,
            "height": null,
            "min_height": null,
            "padding": null,
            "grid_auto_rows": null,
            "grid_gap": null,
            "max_width": null,
            "order": null,
            "_view_module_version": "1.2.0",
            "grid_template_areas": null,
            "object_position": null,
            "object_fit": null,
            "grid_auto_columns": null,
            "margin": null,
            "display": null,
            "left": null
          }
        },
        "099b7f596fba40b18b945278fcf9f153": {
          "model_module": "@jupyter-widgets/controls",
          "model_name": "DescriptionStyleModel",
          "state": {
            "_view_name": "StyleView",
            "_model_name": "DescriptionStyleModel",
            "description_width": "",
            "_view_module": "@jupyter-widgets/base",
            "_model_module_version": "1.5.0",
            "_view_count": null,
            "_view_module_version": "1.2.0",
            "_model_module": "@jupyter-widgets/controls"
          }
        },
        "c35f9b7789af4e678c1251e9ad362ca5": {
          "model_module": "@jupyter-widgets/base",
          "model_name": "LayoutModel",
          "state": {
            "_view_name": "LayoutView",
            "grid_template_rows": null,
            "right": null,
            "justify_content": null,
            "_view_module": "@jupyter-widgets/base",
            "overflow": null,
            "_model_module_version": "1.2.0",
            "_view_count": null,
            "flex_flow": null,
            "width": null,
            "min_width": null,
            "border": null,
            "align_items": null,
            "bottom": null,
            "_model_module": "@jupyter-widgets/base",
            "top": null,
            "grid_column": null,
            "overflow_y": null,
            "overflow_x": null,
            "grid_auto_flow": null,
            "grid_area": null,
            "grid_template_columns": null,
            "flex": null,
            "_model_name": "LayoutModel",
            "justify_items": null,
            "grid_row": null,
            "max_height": null,
            "align_content": null,
            "visibility": null,
            "align_self": null,
            "height": null,
            "min_height": null,
            "padding": null,
            "grid_auto_rows": null,
            "grid_gap": null,
            "max_width": null,
            "order": null,
            "_view_module_version": "1.2.0",
            "grid_template_areas": null,
            "object_position": null,
            "object_fit": null,
            "grid_auto_columns": null,
            "margin": null,
            "display": null,
            "left": null
          }
        },
        "41914cf7121b4a20abf27fdfe4d3b96e": {
          "model_module": "@jupyter-widgets/controls",
          "model_name": "HBoxModel",
          "state": {
            "_view_name": "HBoxView",
            "_dom_classes": [],
            "_model_name": "HBoxModel",
            "_view_module": "@jupyter-widgets/controls",
            "_model_module_version": "1.5.0",
            "_view_count": null,
            "_view_module_version": "1.5.0",
            "box_style": "",
            "layout": "IPY_MODEL_8ca4c2113419407a8ada488487ca57b4",
            "_model_module": "@jupyter-widgets/controls",
            "children": [
              "IPY_MODEL_bb1449832e7943848f9de80b74aa337d",
              "IPY_MODEL_33f0cd54564d4b7e9a684829bf2cfe80"
            ]
          }
        },
        "8ca4c2113419407a8ada488487ca57b4": {
          "model_module": "@jupyter-widgets/base",
          "model_name": "LayoutModel",
          "state": {
            "_view_name": "LayoutView",
            "grid_template_rows": null,
            "right": null,
            "justify_content": null,
            "_view_module": "@jupyter-widgets/base",
            "overflow": null,
            "_model_module_version": "1.2.0",
            "_view_count": null,
            "flex_flow": null,
            "width": null,
            "min_width": null,
            "border": null,
            "align_items": null,
            "bottom": null,
            "_model_module": "@jupyter-widgets/base",
            "top": null,
            "grid_column": null,
            "overflow_y": null,
            "overflow_x": null,
            "grid_auto_flow": null,
            "grid_area": null,
            "grid_template_columns": null,
            "flex": null,
            "_model_name": "LayoutModel",
            "justify_items": null,
            "grid_row": null,
            "max_height": null,
            "align_content": null,
            "visibility": null,
            "align_self": null,
            "height": null,
            "min_height": null,
            "padding": null,
            "grid_auto_rows": null,
            "grid_gap": null,
            "max_width": null,
            "order": null,
            "_view_module_version": "1.2.0",
            "grid_template_areas": null,
            "object_position": null,
            "object_fit": null,
            "grid_auto_columns": null,
            "margin": null,
            "display": null,
            "left": null
          }
        },
        "bb1449832e7943848f9de80b74aa337d": {
          "model_module": "@jupyter-widgets/controls",
          "model_name": "FloatProgressModel",
          "state": {
            "_view_name": "ProgressView",
            "style": "IPY_MODEL_602414345813419da4804b5a4d6ef840",
            "_dom_classes": [],
            "description": "100%",
            "_model_name": "FloatProgressModel",
            "bar_style": "success",
            "max": 3696,
            "_view_module": "@jupyter-widgets/controls",
            "_model_module_version": "1.5.0",
            "value": 3696,
            "_view_count": null,
            "_view_module_version": "1.5.0",
            "orientation": "horizontal",
            "min": 0,
            "description_tooltip": null,
            "_model_module": "@jupyter-widgets/controls",
            "layout": "IPY_MODEL_00de2f42c0954b9d95402f581ef34400"
          }
        },
        "33f0cd54564d4b7e9a684829bf2cfe80": {
          "model_module": "@jupyter-widgets/controls",
          "model_name": "HTMLModel",
          "state": {
            "_view_name": "HTMLView",
            "style": "IPY_MODEL_5d59aaaeb1ec4dc58ded0ff4f797a162",
            "_dom_classes": [],
            "description": "",
            "_model_name": "HTMLModel",
            "placeholder": "​",
            "_view_module": "@jupyter-widgets/controls",
            "_model_module_version": "1.5.0",
            "value": " 3696/3696 [01:15&lt;00:00, 48.84it/s]",
            "_view_count": null,
            "_view_module_version": "1.5.0",
            "description_tooltip": null,
            "_model_module": "@jupyter-widgets/controls",
            "layout": "IPY_MODEL_ef67e7ade7744e7c9cbcad2b58f566b6"
          }
        },
        "602414345813419da4804b5a4d6ef840": {
          "model_module": "@jupyter-widgets/controls",
          "model_name": "ProgressStyleModel",
          "state": {
            "_view_name": "StyleView",
            "_model_name": "ProgressStyleModel",
            "description_width": "initial",
            "_view_module": "@jupyter-widgets/base",
            "_model_module_version": "1.5.0",
            "_view_count": null,
            "_view_module_version": "1.2.0",
            "bar_color": null,
            "_model_module": "@jupyter-widgets/controls"
          }
        },
        "00de2f42c0954b9d95402f581ef34400": {
          "model_module": "@jupyter-widgets/base",
          "model_name": "LayoutModel",
          "state": {
            "_view_name": "LayoutView",
            "grid_template_rows": null,
            "right": null,
            "justify_content": null,
            "_view_module": "@jupyter-widgets/base",
            "overflow": null,
            "_model_module_version": "1.2.0",
            "_view_count": null,
            "flex_flow": null,
            "width": null,
            "min_width": null,
            "border": null,
            "align_items": null,
            "bottom": null,
            "_model_module": "@jupyter-widgets/base",
            "top": null,
            "grid_column": null,
            "overflow_y": null,
            "overflow_x": null,
            "grid_auto_flow": null,
            "grid_area": null,
            "grid_template_columns": null,
            "flex": null,
            "_model_name": "LayoutModel",
            "justify_items": null,
            "grid_row": null,
            "max_height": null,
            "align_content": null,
            "visibility": null,
            "align_self": null,
            "height": null,
            "min_height": null,
            "padding": null,
            "grid_auto_rows": null,
            "grid_gap": null,
            "max_width": null,
            "order": null,
            "_view_module_version": "1.2.0",
            "grid_template_areas": null,
            "object_position": null,
            "object_fit": null,
            "grid_auto_columns": null,
            "margin": null,
            "display": null,
            "left": null
          }
        },
        "5d59aaaeb1ec4dc58ded0ff4f797a162": {
          "model_module": "@jupyter-widgets/controls",
          "model_name": "DescriptionStyleModel",
          "state": {
            "_view_name": "StyleView",
            "_model_name": "DescriptionStyleModel",
            "description_width": "",
            "_view_module": "@jupyter-widgets/base",
            "_model_module_version": "1.5.0",
            "_view_count": null,
            "_view_module_version": "1.2.0",
            "_model_module": "@jupyter-widgets/controls"
          }
        },
        "ef67e7ade7744e7c9cbcad2b58f566b6": {
          "model_module": "@jupyter-widgets/base",
          "model_name": "LayoutModel",
          "state": {
            "_view_name": "LayoutView",
            "grid_template_rows": null,
            "right": null,
            "justify_content": null,
            "_view_module": "@jupyter-widgets/base",
            "overflow": null,
            "_model_module_version": "1.2.0",
            "_view_count": null,
            "flex_flow": null,
            "width": null,
            "min_width": null,
            "border": null,
            "align_items": null,
            "bottom": null,
            "_model_module": "@jupyter-widgets/base",
            "top": null,
            "grid_column": null,
            "overflow_y": null,
            "overflow_x": null,
            "grid_auto_flow": null,
            "grid_area": null,
            "grid_template_columns": null,
            "flex": null,
            "_model_name": "LayoutModel",
            "justify_items": null,
            "grid_row": null,
            "max_height": null,
            "align_content": null,
            "visibility": null,
            "align_self": null,
            "height": null,
            "min_height": null,
            "padding": null,
            "grid_auto_rows": null,
            "grid_gap": null,
            "max_width": null,
            "order": null,
            "_view_module_version": "1.2.0",
            "grid_template_areas": null,
            "object_position": null,
            "object_fit": null,
            "grid_auto_columns": null,
            "margin": null,
            "display": null,
            "left": null
          }
        },
        "c2ee650253534ce09fbbbf88ff36d2e6": {
          "model_module": "@jupyter-widgets/controls",
          "model_name": "HBoxModel",
          "state": {
            "_view_name": "HBoxView",
            "_dom_classes": [],
            "_model_name": "HBoxModel",
            "_view_module": "@jupyter-widgets/controls",
            "_model_module_version": "1.5.0",
            "_view_count": null,
            "_view_module_version": "1.5.0",
            "box_style": "",
            "layout": "IPY_MODEL_859e19cf50674b12bed48b1a1d67ac7c",
            "_model_module": "@jupyter-widgets/controls",
            "children": [
              "IPY_MODEL_c453019a469a4b34993d36741fd1466f",
              "IPY_MODEL_30f51cc327b34ffa83278c70b6b56bcf"
            ]
          }
        },
        "859e19cf50674b12bed48b1a1d67ac7c": {
          "model_module": "@jupyter-widgets/base",
          "model_name": "LayoutModel",
          "state": {
            "_view_name": "LayoutView",
            "grid_template_rows": null,
            "right": null,
            "justify_content": null,
            "_view_module": "@jupyter-widgets/base",
            "overflow": null,
            "_model_module_version": "1.2.0",
            "_view_count": null,
            "flex_flow": null,
            "width": null,
            "min_width": null,
            "border": null,
            "align_items": null,
            "bottom": null,
            "_model_module": "@jupyter-widgets/base",
            "top": null,
            "grid_column": null,
            "overflow_y": null,
            "overflow_x": null,
            "grid_auto_flow": null,
            "grid_area": null,
            "grid_template_columns": null,
            "flex": null,
            "_model_name": "LayoutModel",
            "justify_items": null,
            "grid_row": null,
            "max_height": null,
            "align_content": null,
            "visibility": null,
            "align_self": null,
            "height": null,
            "min_height": null,
            "padding": null,
            "grid_auto_rows": null,
            "grid_gap": null,
            "max_width": null,
            "order": null,
            "_view_module_version": "1.2.0",
            "grid_template_areas": null,
            "object_position": null,
            "object_fit": null,
            "grid_auto_columns": null,
            "margin": null,
            "display": null,
            "left": null
          }
        },
        "c453019a469a4b34993d36741fd1466f": {
          "model_module": "@jupyter-widgets/controls",
          "model_name": "FloatProgressModel",
          "state": {
            "_view_name": "ProgressView",
            "style": "IPY_MODEL_be445a436acb44fba1746cfc2579214d",
            "_dom_classes": [],
            "description": "100%",
            "_model_name": "FloatProgressModel",
            "bar_style": "success",
            "max": 3696,
            "_view_module": "@jupyter-widgets/controls",
            "_model_module_version": "1.5.0",
            "value": 3696,
            "_view_count": null,
            "_view_module_version": "1.5.0",
            "orientation": "horizontal",
            "min": 0,
            "description_tooltip": null,
            "_model_module": "@jupyter-widgets/controls",
            "layout": "IPY_MODEL_df9a13b7eef54a2ca61ab0d6c34ef92e"
          }
        },
        "30f51cc327b34ffa83278c70b6b56bcf": {
          "model_module": "@jupyter-widgets/controls",
          "model_name": "HTMLModel",
          "state": {
            "_view_name": "HTMLView",
            "style": "IPY_MODEL_36111b2bfc9740ccb3e80ef0d4115333",
            "_dom_classes": [],
            "description": "",
            "_model_name": "HTMLModel",
            "placeholder": "​",
            "_view_module": "@jupyter-widgets/controls",
            "_model_module_version": "1.5.0",
            "value": " 3696/3696 [01:13&lt;00:00, 50.07it/s]",
            "_view_count": null,
            "_view_module_version": "1.5.0",
            "description_tooltip": null,
            "_model_module": "@jupyter-widgets/controls",
            "layout": "IPY_MODEL_88847f815daf46a6917324d96b1e57f5"
          }
        },
        "be445a436acb44fba1746cfc2579214d": {
          "model_module": "@jupyter-widgets/controls",
          "model_name": "ProgressStyleModel",
          "state": {
            "_view_name": "StyleView",
            "_model_name": "ProgressStyleModel",
            "description_width": "initial",
            "_view_module": "@jupyter-widgets/base",
            "_model_module_version": "1.5.0",
            "_view_count": null,
            "_view_module_version": "1.2.0",
            "bar_color": null,
            "_model_module": "@jupyter-widgets/controls"
          }
        },
        "df9a13b7eef54a2ca61ab0d6c34ef92e": {
          "model_module": "@jupyter-widgets/base",
          "model_name": "LayoutModel",
          "state": {
            "_view_name": "LayoutView",
            "grid_template_rows": null,
            "right": null,
            "justify_content": null,
            "_view_module": "@jupyter-widgets/base",
            "overflow": null,
            "_model_module_version": "1.2.0",
            "_view_count": null,
            "flex_flow": null,
            "width": null,
            "min_width": null,
            "border": null,
            "align_items": null,
            "bottom": null,
            "_model_module": "@jupyter-widgets/base",
            "top": null,
            "grid_column": null,
            "overflow_y": null,
            "overflow_x": null,
            "grid_auto_flow": null,
            "grid_area": null,
            "grid_template_columns": null,
            "flex": null,
            "_model_name": "LayoutModel",
            "justify_items": null,
            "grid_row": null,
            "max_height": null,
            "align_content": null,
            "visibility": null,
            "align_self": null,
            "height": null,
            "min_height": null,
            "padding": null,
            "grid_auto_rows": null,
            "grid_gap": null,
            "max_width": null,
            "order": null,
            "_view_module_version": "1.2.0",
            "grid_template_areas": null,
            "object_position": null,
            "object_fit": null,
            "grid_auto_columns": null,
            "margin": null,
            "display": null,
            "left": null
          }
        },
        "36111b2bfc9740ccb3e80ef0d4115333": {
          "model_module": "@jupyter-widgets/controls",
          "model_name": "DescriptionStyleModel",
          "state": {
            "_view_name": "StyleView",
            "_model_name": "DescriptionStyleModel",
            "description_width": "",
            "_view_module": "@jupyter-widgets/base",
            "_model_module_version": "1.5.0",
            "_view_count": null,
            "_view_module_version": "1.2.0",
            "_model_module": "@jupyter-widgets/controls"
          }
        },
        "88847f815daf46a6917324d96b1e57f5": {
          "model_module": "@jupyter-widgets/base",
          "model_name": "LayoutModel",
          "state": {
            "_view_name": "LayoutView",
            "grid_template_rows": null,
            "right": null,
            "justify_content": null,
            "_view_module": "@jupyter-widgets/base",
            "overflow": null,
            "_model_module_version": "1.2.0",
            "_view_count": null,
            "flex_flow": null,
            "width": null,
            "min_width": null,
            "border": null,
            "align_items": null,
            "bottom": null,
            "_model_module": "@jupyter-widgets/base",
            "top": null,
            "grid_column": null,
            "overflow_y": null,
            "overflow_x": null,
            "grid_auto_flow": null,
            "grid_area": null,
            "grid_template_columns": null,
            "flex": null,
            "_model_name": "LayoutModel",
            "justify_items": null,
            "grid_row": null,
            "max_height": null,
            "align_content": null,
            "visibility": null,
            "align_self": null,
            "height": null,
            "min_height": null,
            "padding": null,
            "grid_auto_rows": null,
            "grid_gap": null,
            "max_width": null,
            "order": null,
            "_view_module_version": "1.2.0",
            "grid_template_areas": null,
            "object_position": null,
            "object_fit": null,
            "grid_auto_columns": null,
            "margin": null,
            "display": null,
            "left": null
          }
        },
        "fcf4b6d3365b42ef84bcb40ec5bf366d": {
          "model_module": "@jupyter-widgets/controls",
          "model_name": "HBoxModel",
          "state": {
            "_view_name": "HBoxView",
            "_dom_classes": [],
            "_model_name": "HBoxModel",
            "_view_module": "@jupyter-widgets/controls",
            "_model_module_version": "1.5.0",
            "_view_count": null,
            "_view_module_version": "1.5.0",
            "box_style": "",
            "layout": "IPY_MODEL_72f01ff7716d42858ac44c1119076c07",
            "_model_module": "@jupyter-widgets/controls",
            "children": [
              "IPY_MODEL_db368e0763694d5eb78965d9719ad707",
              "IPY_MODEL_84a165f4a53d47d38dbf54c8911aabbf"
            ]
          }
        },
        "72f01ff7716d42858ac44c1119076c07": {
          "model_module": "@jupyter-widgets/base",
          "model_name": "LayoutModel",
          "state": {
            "_view_name": "LayoutView",
            "grid_template_rows": null,
            "right": null,
            "justify_content": null,
            "_view_module": "@jupyter-widgets/base",
            "overflow": null,
            "_model_module_version": "1.2.0",
            "_view_count": null,
            "flex_flow": null,
            "width": null,
            "min_width": null,
            "border": null,
            "align_items": null,
            "bottom": null,
            "_model_module": "@jupyter-widgets/base",
            "top": null,
            "grid_column": null,
            "overflow_y": null,
            "overflow_x": null,
            "grid_auto_flow": null,
            "grid_area": null,
            "grid_template_columns": null,
            "flex": null,
            "_model_name": "LayoutModel",
            "justify_items": null,
            "grid_row": null,
            "max_height": null,
            "align_content": null,
            "visibility": null,
            "align_self": null,
            "height": null,
            "min_height": null,
            "padding": null,
            "grid_auto_rows": null,
            "grid_gap": null,
            "max_width": null,
            "order": null,
            "_view_module_version": "1.2.0",
            "grid_template_areas": null,
            "object_position": null,
            "object_fit": null,
            "grid_auto_columns": null,
            "margin": null,
            "display": null,
            "left": null
          }
        },
        "db368e0763694d5eb78965d9719ad707": {
          "model_module": "@jupyter-widgets/controls",
          "model_name": "FloatProgressModel",
          "state": {
            "_view_name": "ProgressView",
            "style": "IPY_MODEL_7588ef94e8d2417a8d6227347f82ebb5",
            "_dom_classes": [],
            "description": "100%",
            "_model_name": "FloatProgressModel",
            "bar_style": "success",
            "max": 3696,
            "_view_module": "@jupyter-widgets/controls",
            "_model_module_version": "1.5.0",
            "value": 3696,
            "_view_count": null,
            "_view_module_version": "1.5.0",
            "orientation": "horizontal",
            "min": 0,
            "description_tooltip": null,
            "_model_module": "@jupyter-widgets/controls",
            "layout": "IPY_MODEL_b0b9ee4a5a9f477ab570e9d7a37a14bf"
          }
        },
        "84a165f4a53d47d38dbf54c8911aabbf": {
          "model_module": "@jupyter-widgets/controls",
          "model_name": "HTMLModel",
          "state": {
            "_view_name": "HTMLView",
            "style": "IPY_MODEL_c770cb0bf39b478aa7c7019d7e406d59",
            "_dom_classes": [],
            "description": "",
            "_model_name": "HTMLModel",
            "placeholder": "​",
            "_view_module": "@jupyter-widgets/controls",
            "_model_module_version": "1.5.0",
            "value": " 3696/3696 [03:47&lt;00:00, 16.23it/s]",
            "_view_count": null,
            "_view_module_version": "1.5.0",
            "description_tooltip": null,
            "_model_module": "@jupyter-widgets/controls",
            "layout": "IPY_MODEL_2a76f4a9ed1f4383899c045688548b12"
          }
        },
        "7588ef94e8d2417a8d6227347f82ebb5": {
          "model_module": "@jupyter-widgets/controls",
          "model_name": "ProgressStyleModel",
          "state": {
            "_view_name": "StyleView",
            "_model_name": "ProgressStyleModel",
            "description_width": "initial",
            "_view_module": "@jupyter-widgets/base",
            "_model_module_version": "1.5.0",
            "_view_count": null,
            "_view_module_version": "1.2.0",
            "bar_color": null,
            "_model_module": "@jupyter-widgets/controls"
          }
        },
        "b0b9ee4a5a9f477ab570e9d7a37a14bf": {
          "model_module": "@jupyter-widgets/base",
          "model_name": "LayoutModel",
          "state": {
            "_view_name": "LayoutView",
            "grid_template_rows": null,
            "right": null,
            "justify_content": null,
            "_view_module": "@jupyter-widgets/base",
            "overflow": null,
            "_model_module_version": "1.2.0",
            "_view_count": null,
            "flex_flow": null,
            "width": null,
            "min_width": null,
            "border": null,
            "align_items": null,
            "bottom": null,
            "_model_module": "@jupyter-widgets/base",
            "top": null,
            "grid_column": null,
            "overflow_y": null,
            "overflow_x": null,
            "grid_auto_flow": null,
            "grid_area": null,
            "grid_template_columns": null,
            "flex": null,
            "_model_name": "LayoutModel",
            "justify_items": null,
            "grid_row": null,
            "max_height": null,
            "align_content": null,
            "visibility": null,
            "align_self": null,
            "height": null,
            "min_height": null,
            "padding": null,
            "grid_auto_rows": null,
            "grid_gap": null,
            "max_width": null,
            "order": null,
            "_view_module_version": "1.2.0",
            "grid_template_areas": null,
            "object_position": null,
            "object_fit": null,
            "grid_auto_columns": null,
            "margin": null,
            "display": null,
            "left": null
          }
        },
        "c770cb0bf39b478aa7c7019d7e406d59": {
          "model_module": "@jupyter-widgets/controls",
          "model_name": "DescriptionStyleModel",
          "state": {
            "_view_name": "StyleView",
            "_model_name": "DescriptionStyleModel",
            "description_width": "",
            "_view_module": "@jupyter-widgets/base",
            "_model_module_version": "1.5.0",
            "_view_count": null,
            "_view_module_version": "1.2.0",
            "_model_module": "@jupyter-widgets/controls"
          }
        },
        "2a76f4a9ed1f4383899c045688548b12": {
          "model_module": "@jupyter-widgets/base",
          "model_name": "LayoutModel",
          "state": {
            "_view_name": "LayoutView",
            "grid_template_rows": null,
            "right": null,
            "justify_content": null,
            "_view_module": "@jupyter-widgets/base",
            "overflow": null,
            "_model_module_version": "1.2.0",
            "_view_count": null,
            "flex_flow": null,
            "width": null,
            "min_width": null,
            "border": null,
            "align_items": null,
            "bottom": null,
            "_model_module": "@jupyter-widgets/base",
            "top": null,
            "grid_column": null,
            "overflow_y": null,
            "overflow_x": null,
            "grid_auto_flow": null,
            "grid_area": null,
            "grid_template_columns": null,
            "flex": null,
            "_model_name": "LayoutModel",
            "justify_items": null,
            "grid_row": null,
            "max_height": null,
            "align_content": null,
            "visibility": null,
            "align_self": null,
            "height": null,
            "min_height": null,
            "padding": null,
            "grid_auto_rows": null,
            "grid_gap": null,
            "max_width": null,
            "order": null,
            "_view_module_version": "1.2.0",
            "grid_template_areas": null,
            "object_position": null,
            "object_fit": null,
            "grid_auto_columns": null,
            "margin": null,
            "display": null,
            "left": null
          }
        },
        "4cc39a73418f47508a2d78609c3eed9e": {
          "model_module": "@jupyter-widgets/controls",
          "model_name": "HBoxModel",
          "state": {
            "_view_name": "HBoxView",
            "_dom_classes": [],
            "_model_name": "HBoxModel",
            "_view_module": "@jupyter-widgets/controls",
            "_model_module_version": "1.5.0",
            "_view_count": null,
            "_view_module_version": "1.5.0",
            "box_style": "",
            "layout": "IPY_MODEL_67e71161f1f64a888f8a4b1178b8e4cd",
            "_model_module": "@jupyter-widgets/controls",
            "children": [
              "IPY_MODEL_1bedb74d37a44c13861da2258159be12",
              "IPY_MODEL_5d7f1091b5734a99b9ff2d52d8c1aa56"
            ]
          }
        },
        "67e71161f1f64a888f8a4b1178b8e4cd": {
          "model_module": "@jupyter-widgets/base",
          "model_name": "LayoutModel",
          "state": {
            "_view_name": "LayoutView",
            "grid_template_rows": null,
            "right": null,
            "justify_content": null,
            "_view_module": "@jupyter-widgets/base",
            "overflow": null,
            "_model_module_version": "1.2.0",
            "_view_count": null,
            "flex_flow": null,
            "width": null,
            "min_width": null,
            "border": null,
            "align_items": null,
            "bottom": null,
            "_model_module": "@jupyter-widgets/base",
            "top": null,
            "grid_column": null,
            "overflow_y": null,
            "overflow_x": null,
            "grid_auto_flow": null,
            "grid_area": null,
            "grid_template_columns": null,
            "flex": null,
            "_model_name": "LayoutModel",
            "justify_items": null,
            "grid_row": null,
            "max_height": null,
            "align_content": null,
            "visibility": null,
            "align_self": null,
            "height": null,
            "min_height": null,
            "padding": null,
            "grid_auto_rows": null,
            "grid_gap": null,
            "max_width": null,
            "order": null,
            "_view_module_version": "1.2.0",
            "grid_template_areas": null,
            "object_position": null,
            "object_fit": null,
            "grid_auto_columns": null,
            "margin": null,
            "display": null,
            "left": null
          }
        },
        "1bedb74d37a44c13861da2258159be12": {
          "model_module": "@jupyter-widgets/controls",
          "model_name": "FloatProgressModel",
          "state": {
            "_view_name": "ProgressView",
            "style": "IPY_MODEL_069f978cc99445aa93c1b62c3c07deaf",
            "_dom_classes": [],
            "description": "100%",
            "_model_name": "FloatProgressModel",
            "bar_style": "success",
            "max": 3696,
            "_view_module": "@jupyter-widgets/controls",
            "_model_module_version": "1.5.0",
            "value": 3696,
            "_view_count": null,
            "_view_module_version": "1.5.0",
            "orientation": "horizontal",
            "min": 0,
            "description_tooltip": null,
            "_model_module": "@jupyter-widgets/controls",
            "layout": "IPY_MODEL_77086fd453fb4802926bb2e1352090b4"
          }
        },
        "5d7f1091b5734a99b9ff2d52d8c1aa56": {
          "model_module": "@jupyter-widgets/controls",
          "model_name": "HTMLModel",
          "state": {
            "_view_name": "HTMLView",
            "style": "IPY_MODEL_f5493b7ae1a142cf96706646297fa810",
            "_dom_classes": [],
            "description": "",
            "_model_name": "HTMLModel",
            "placeholder": "​",
            "_view_module": "@jupyter-widgets/controls",
            "_model_module_version": "1.5.0",
            "value": " 3696/3696 [02:32&lt;00:00, 24.26it/s]",
            "_view_count": null,
            "_view_module_version": "1.5.0",
            "description_tooltip": null,
            "_model_module": "@jupyter-widgets/controls",
            "layout": "IPY_MODEL_1daef7ac91274cd79b0fb1cf15230ce4"
          }
        },
        "069f978cc99445aa93c1b62c3c07deaf": {
          "model_module": "@jupyter-widgets/controls",
          "model_name": "ProgressStyleModel",
          "state": {
            "_view_name": "StyleView",
            "_model_name": "ProgressStyleModel",
            "description_width": "initial",
            "_view_module": "@jupyter-widgets/base",
            "_model_module_version": "1.5.0",
            "_view_count": null,
            "_view_module_version": "1.2.0",
            "bar_color": null,
            "_model_module": "@jupyter-widgets/controls"
          }
        },
        "77086fd453fb4802926bb2e1352090b4": {
          "model_module": "@jupyter-widgets/base",
          "model_name": "LayoutModel",
          "state": {
            "_view_name": "LayoutView",
            "grid_template_rows": null,
            "right": null,
            "justify_content": null,
            "_view_module": "@jupyter-widgets/base",
            "overflow": null,
            "_model_module_version": "1.2.0",
            "_view_count": null,
            "flex_flow": null,
            "width": null,
            "min_width": null,
            "border": null,
            "align_items": null,
            "bottom": null,
            "_model_module": "@jupyter-widgets/base",
            "top": null,
            "grid_column": null,
            "overflow_y": null,
            "overflow_x": null,
            "grid_auto_flow": null,
            "grid_area": null,
            "grid_template_columns": null,
            "flex": null,
            "_model_name": "LayoutModel",
            "justify_items": null,
            "grid_row": null,
            "max_height": null,
            "align_content": null,
            "visibility": null,
            "align_self": null,
            "height": null,
            "min_height": null,
            "padding": null,
            "grid_auto_rows": null,
            "grid_gap": null,
            "max_width": null,
            "order": null,
            "_view_module_version": "1.2.0",
            "grid_template_areas": null,
            "object_position": null,
            "object_fit": null,
            "grid_auto_columns": null,
            "margin": null,
            "display": null,
            "left": null
          }
        },
        "f5493b7ae1a142cf96706646297fa810": {
          "model_module": "@jupyter-widgets/controls",
          "model_name": "DescriptionStyleModel",
          "state": {
            "_view_name": "StyleView",
            "_model_name": "DescriptionStyleModel",
            "description_width": "",
            "_view_module": "@jupyter-widgets/base",
            "_model_module_version": "1.5.0",
            "_view_count": null,
            "_view_module_version": "1.2.0",
            "_model_module": "@jupyter-widgets/controls"
          }
        },
        "1daef7ac91274cd79b0fb1cf15230ce4": {
          "model_module": "@jupyter-widgets/base",
          "model_name": "LayoutModel",
          "state": {
            "_view_name": "LayoutView",
            "grid_template_rows": null,
            "right": null,
            "justify_content": null,
            "_view_module": "@jupyter-widgets/base",
            "overflow": null,
            "_model_module_version": "1.2.0",
            "_view_count": null,
            "flex_flow": null,
            "width": null,
            "min_width": null,
            "border": null,
            "align_items": null,
            "bottom": null,
            "_model_module": "@jupyter-widgets/base",
            "top": null,
            "grid_column": null,
            "overflow_y": null,
            "overflow_x": null,
            "grid_auto_flow": null,
            "grid_area": null,
            "grid_template_columns": null,
            "flex": null,
            "_model_name": "LayoutModel",
            "justify_items": null,
            "grid_row": null,
            "max_height": null,
            "align_content": null,
            "visibility": null,
            "align_self": null,
            "height": null,
            "min_height": null,
            "padding": null,
            "grid_auto_rows": null,
            "grid_gap": null,
            "max_width": null,
            "order": null,
            "_view_module_version": "1.2.0",
            "grid_template_areas": null,
            "object_position": null,
            "object_fit": null,
            "grid_auto_columns": null,
            "margin": null,
            "display": null,
            "left": null
          }
        },
        "4d3077a0f79a4ff5aa1a3e6b6ad1cda2": {
          "model_module": "@jupyter-widgets/controls",
          "model_name": "HBoxModel",
          "state": {
            "_view_name": "HBoxView",
            "_dom_classes": [],
            "_model_name": "HBoxModel",
            "_view_module": "@jupyter-widgets/controls",
            "_model_module_version": "1.5.0",
            "_view_count": null,
            "_view_module_version": "1.5.0",
            "box_style": "",
            "layout": "IPY_MODEL_b253c98669f4423dab161174a9251dca",
            "_model_module": "@jupyter-widgets/controls",
            "children": [
              "IPY_MODEL_fc4a3a0cc03f400b9ff02707f11e80f2",
              "IPY_MODEL_3abf78c95baa43c49b5d94b1df67631b"
            ]
          }
        },
        "b253c98669f4423dab161174a9251dca": {
          "model_module": "@jupyter-widgets/base",
          "model_name": "LayoutModel",
          "state": {
            "_view_name": "LayoutView",
            "grid_template_rows": null,
            "right": null,
            "justify_content": null,
            "_view_module": "@jupyter-widgets/base",
            "overflow": null,
            "_model_module_version": "1.2.0",
            "_view_count": null,
            "flex_flow": null,
            "width": null,
            "min_width": null,
            "border": null,
            "align_items": null,
            "bottom": null,
            "_model_module": "@jupyter-widgets/base",
            "top": null,
            "grid_column": null,
            "overflow_y": null,
            "overflow_x": null,
            "grid_auto_flow": null,
            "grid_area": null,
            "grid_template_columns": null,
            "flex": null,
            "_model_name": "LayoutModel",
            "justify_items": null,
            "grid_row": null,
            "max_height": null,
            "align_content": null,
            "visibility": null,
            "align_self": null,
            "height": null,
            "min_height": null,
            "padding": null,
            "grid_auto_rows": null,
            "grid_gap": null,
            "max_width": null,
            "order": null,
            "_view_module_version": "1.2.0",
            "grid_template_areas": null,
            "object_position": null,
            "object_fit": null,
            "grid_auto_columns": null,
            "margin": null,
            "display": null,
            "left": null
          }
        },
        "fc4a3a0cc03f400b9ff02707f11e80f2": {
          "model_module": "@jupyter-widgets/controls",
          "model_name": "FloatProgressModel",
          "state": {
            "_view_name": "ProgressView",
            "style": "IPY_MODEL_eb290f648e4e48ceb75163b52b91cb4a",
            "_dom_classes": [],
            "description": "100%",
            "_model_name": "FloatProgressModel",
            "bar_style": "success",
            "max": 3696,
            "_view_module": "@jupyter-widgets/controls",
            "_model_module_version": "1.5.0",
            "value": 3696,
            "_view_count": null,
            "_view_module_version": "1.5.0",
            "orientation": "horizontal",
            "min": 0,
            "description_tooltip": null,
            "_model_module": "@jupyter-widgets/controls",
            "layout": "IPY_MODEL_1c981562d7be456784b810331e6a06fc"
          }
        },
        "3abf78c95baa43c49b5d94b1df67631b": {
          "model_module": "@jupyter-widgets/controls",
          "model_name": "HTMLModel",
          "state": {
            "_view_name": "HTMLView",
            "style": "IPY_MODEL_bd0db1f5e3634d24b1202c2ea2d71797",
            "_dom_classes": [],
            "description": "",
            "_model_name": "HTMLModel",
            "placeholder": "​",
            "_view_module": "@jupyter-widgets/controls",
            "_model_module_version": "1.5.0",
            "value": " 3696/3696 [01:16&lt;00:00, 48.33it/s]",
            "_view_count": null,
            "_view_module_version": "1.5.0",
            "description_tooltip": null,
            "_model_module": "@jupyter-widgets/controls",
            "layout": "IPY_MODEL_2e148cc7d5d2425e9e38bf57e6aa4c1c"
          }
        },
        "eb290f648e4e48ceb75163b52b91cb4a": {
          "model_module": "@jupyter-widgets/controls",
          "model_name": "ProgressStyleModel",
          "state": {
            "_view_name": "StyleView",
            "_model_name": "ProgressStyleModel",
            "description_width": "initial",
            "_view_module": "@jupyter-widgets/base",
            "_model_module_version": "1.5.0",
            "_view_count": null,
            "_view_module_version": "1.2.0",
            "bar_color": null,
            "_model_module": "@jupyter-widgets/controls"
          }
        },
        "1c981562d7be456784b810331e6a06fc": {
          "model_module": "@jupyter-widgets/base",
          "model_name": "LayoutModel",
          "state": {
            "_view_name": "LayoutView",
            "grid_template_rows": null,
            "right": null,
            "justify_content": null,
            "_view_module": "@jupyter-widgets/base",
            "overflow": null,
            "_model_module_version": "1.2.0",
            "_view_count": null,
            "flex_flow": null,
            "width": null,
            "min_width": null,
            "border": null,
            "align_items": null,
            "bottom": null,
            "_model_module": "@jupyter-widgets/base",
            "top": null,
            "grid_column": null,
            "overflow_y": null,
            "overflow_x": null,
            "grid_auto_flow": null,
            "grid_area": null,
            "grid_template_columns": null,
            "flex": null,
            "_model_name": "LayoutModel",
            "justify_items": null,
            "grid_row": null,
            "max_height": null,
            "align_content": null,
            "visibility": null,
            "align_self": null,
            "height": null,
            "min_height": null,
            "padding": null,
            "grid_auto_rows": null,
            "grid_gap": null,
            "max_width": null,
            "order": null,
            "_view_module_version": "1.2.0",
            "grid_template_areas": null,
            "object_position": null,
            "object_fit": null,
            "grid_auto_columns": null,
            "margin": null,
            "display": null,
            "left": null
          }
        },
        "bd0db1f5e3634d24b1202c2ea2d71797": {
          "model_module": "@jupyter-widgets/controls",
          "model_name": "DescriptionStyleModel",
          "state": {
            "_view_name": "StyleView",
            "_model_name": "DescriptionStyleModel",
            "description_width": "",
            "_view_module": "@jupyter-widgets/base",
            "_model_module_version": "1.5.0",
            "_view_count": null,
            "_view_module_version": "1.2.0",
            "_model_module": "@jupyter-widgets/controls"
          }
        },
        "2e148cc7d5d2425e9e38bf57e6aa4c1c": {
          "model_module": "@jupyter-widgets/base",
          "model_name": "LayoutModel",
          "state": {
            "_view_name": "LayoutView",
            "grid_template_rows": null,
            "right": null,
            "justify_content": null,
            "_view_module": "@jupyter-widgets/base",
            "overflow": null,
            "_model_module_version": "1.2.0",
            "_view_count": null,
            "flex_flow": null,
            "width": null,
            "min_width": null,
            "border": null,
            "align_items": null,
            "bottom": null,
            "_model_module": "@jupyter-widgets/base",
            "top": null,
            "grid_column": null,
            "overflow_y": null,
            "overflow_x": null,
            "grid_auto_flow": null,
            "grid_area": null,
            "grid_template_columns": null,
            "flex": null,
            "_model_name": "LayoutModel",
            "justify_items": null,
            "grid_row": null,
            "max_height": null,
            "align_content": null,
            "visibility": null,
            "align_self": null,
            "height": null,
            "min_height": null,
            "padding": null,
            "grid_auto_rows": null,
            "grid_gap": null,
            "max_width": null,
            "order": null,
            "_view_module_version": "1.2.0",
            "grid_template_areas": null,
            "object_position": null,
            "object_fit": null,
            "grid_auto_columns": null,
            "margin": null,
            "display": null,
            "left": null
          }
        },
        "b831a51cbc534a72bf1abfb023a437cf": {
          "model_module": "@jupyter-widgets/controls",
          "model_name": "HBoxModel",
          "state": {
            "_view_name": "HBoxView",
            "_dom_classes": [],
            "_model_name": "HBoxModel",
            "_view_module": "@jupyter-widgets/controls",
            "_model_module_version": "1.5.0",
            "_view_count": null,
            "_view_module_version": "1.5.0",
            "box_style": "",
            "layout": "IPY_MODEL_fc76273f409b413ea58dc75539be830b",
            "_model_module": "@jupyter-widgets/controls",
            "children": [
              "IPY_MODEL_e1ceb0d806d340b6b2aea39222eb3edc",
              "IPY_MODEL_a31aae9530aa437d903b00223e34465e"
            ]
          }
        },
        "fc76273f409b413ea58dc75539be830b": {
          "model_module": "@jupyter-widgets/base",
          "model_name": "LayoutModel",
          "state": {
            "_view_name": "LayoutView",
            "grid_template_rows": null,
            "right": null,
            "justify_content": null,
            "_view_module": "@jupyter-widgets/base",
            "overflow": null,
            "_model_module_version": "1.2.0",
            "_view_count": null,
            "flex_flow": null,
            "width": null,
            "min_width": null,
            "border": null,
            "align_items": null,
            "bottom": null,
            "_model_module": "@jupyter-widgets/base",
            "top": null,
            "grid_column": null,
            "overflow_y": null,
            "overflow_x": null,
            "grid_auto_flow": null,
            "grid_area": null,
            "grid_template_columns": null,
            "flex": null,
            "_model_name": "LayoutModel",
            "justify_items": null,
            "grid_row": null,
            "max_height": null,
            "align_content": null,
            "visibility": null,
            "align_self": null,
            "height": null,
            "min_height": null,
            "padding": null,
            "grid_auto_rows": null,
            "grid_gap": null,
            "max_width": null,
            "order": null,
            "_view_module_version": "1.2.0",
            "grid_template_areas": null,
            "object_position": null,
            "object_fit": null,
            "grid_auto_columns": null,
            "margin": null,
            "display": null,
            "left": null
          }
        },
        "e1ceb0d806d340b6b2aea39222eb3edc": {
          "model_module": "@jupyter-widgets/controls",
          "model_name": "FloatProgressModel",
          "state": {
            "_view_name": "ProgressView",
            "style": "IPY_MODEL_94f712a1d65749a08c61a00992f5a345",
            "_dom_classes": [],
            "description": "100%",
            "_model_name": "FloatProgressModel",
            "bar_style": "success",
            "max": 3696,
            "_view_module": "@jupyter-widgets/controls",
            "_model_module_version": "1.5.0",
            "value": 3696,
            "_view_count": null,
            "_view_module_version": "1.5.0",
            "orientation": "horizontal",
            "min": 0,
            "description_tooltip": null,
            "_model_module": "@jupyter-widgets/controls",
            "layout": "IPY_MODEL_15e9fc0f6a7c477e815c4c897c6ad5c9"
          }
        },
        "a31aae9530aa437d903b00223e34465e": {
          "model_module": "@jupyter-widgets/controls",
          "model_name": "HTMLModel",
          "state": {
            "_view_name": "HTMLView",
            "style": "IPY_MODEL_f20df04fbaf64b84a6ab194e3610b3e6",
            "_dom_classes": [],
            "description": "",
            "_model_name": "HTMLModel",
            "placeholder": "​",
            "_view_module": "@jupyter-widgets/controls",
            "_model_module_version": "1.5.0",
            "value": " 3696/3696 [05:14&lt;00:00, 11.73it/s]",
            "_view_count": null,
            "_view_module_version": "1.5.0",
            "description_tooltip": null,
            "_model_module": "@jupyter-widgets/controls",
            "layout": "IPY_MODEL_72e5564306bc449595f87dcf7731dd59"
          }
        },
        "94f712a1d65749a08c61a00992f5a345": {
          "model_module": "@jupyter-widgets/controls",
          "model_name": "ProgressStyleModel",
          "state": {
            "_view_name": "StyleView",
            "_model_name": "ProgressStyleModel",
            "description_width": "initial",
            "_view_module": "@jupyter-widgets/base",
            "_model_module_version": "1.5.0",
            "_view_count": null,
            "_view_module_version": "1.2.0",
            "bar_color": null,
            "_model_module": "@jupyter-widgets/controls"
          }
        },
        "15e9fc0f6a7c477e815c4c897c6ad5c9": {
          "model_module": "@jupyter-widgets/base",
          "model_name": "LayoutModel",
          "state": {
            "_view_name": "LayoutView",
            "grid_template_rows": null,
            "right": null,
            "justify_content": null,
            "_view_module": "@jupyter-widgets/base",
            "overflow": null,
            "_model_module_version": "1.2.0",
            "_view_count": null,
            "flex_flow": null,
            "width": null,
            "min_width": null,
            "border": null,
            "align_items": null,
            "bottom": null,
            "_model_module": "@jupyter-widgets/base",
            "top": null,
            "grid_column": null,
            "overflow_y": null,
            "overflow_x": null,
            "grid_auto_flow": null,
            "grid_area": null,
            "grid_template_columns": null,
            "flex": null,
            "_model_name": "LayoutModel",
            "justify_items": null,
            "grid_row": null,
            "max_height": null,
            "align_content": null,
            "visibility": null,
            "align_self": null,
            "height": null,
            "min_height": null,
            "padding": null,
            "grid_auto_rows": null,
            "grid_gap": null,
            "max_width": null,
            "order": null,
            "_view_module_version": "1.2.0",
            "grid_template_areas": null,
            "object_position": null,
            "object_fit": null,
            "grid_auto_columns": null,
            "margin": null,
            "display": null,
            "left": null
          }
        },
        "f20df04fbaf64b84a6ab194e3610b3e6": {
          "model_module": "@jupyter-widgets/controls",
          "model_name": "DescriptionStyleModel",
          "state": {
            "_view_name": "StyleView",
            "_model_name": "DescriptionStyleModel",
            "description_width": "",
            "_view_module": "@jupyter-widgets/base",
            "_model_module_version": "1.5.0",
            "_view_count": null,
            "_view_module_version": "1.2.0",
            "_model_module": "@jupyter-widgets/controls"
          }
        },
        "72e5564306bc449595f87dcf7731dd59": {
          "model_module": "@jupyter-widgets/base",
          "model_name": "LayoutModel",
          "state": {
            "_view_name": "LayoutView",
            "grid_template_rows": null,
            "right": null,
            "justify_content": null,
            "_view_module": "@jupyter-widgets/base",
            "overflow": null,
            "_model_module_version": "1.2.0",
            "_view_count": null,
            "flex_flow": null,
            "width": null,
            "min_width": null,
            "border": null,
            "align_items": null,
            "bottom": null,
            "_model_module": "@jupyter-widgets/base",
            "top": null,
            "grid_column": null,
            "overflow_y": null,
            "overflow_x": null,
            "grid_auto_flow": null,
            "grid_area": null,
            "grid_template_columns": null,
            "flex": null,
            "_model_name": "LayoutModel",
            "justify_items": null,
            "grid_row": null,
            "max_height": null,
            "align_content": null,
            "visibility": null,
            "align_self": null,
            "height": null,
            "min_height": null,
            "padding": null,
            "grid_auto_rows": null,
            "grid_gap": null,
            "max_width": null,
            "order": null,
            "_view_module_version": "1.2.0",
            "grid_template_areas": null,
            "object_position": null,
            "object_fit": null,
            "grid_auto_columns": null,
            "margin": null,
            "display": null,
            "left": null
          }
        },
        "9e5d320dd5024c74ad7e920d33a809c7": {
          "model_module": "@jupyter-widgets/controls",
          "model_name": "HBoxModel",
          "state": {
            "_view_name": "HBoxView",
            "_dom_classes": [],
            "_model_name": "HBoxModel",
            "_view_module": "@jupyter-widgets/controls",
            "_model_module_version": "1.5.0",
            "_view_count": null,
            "_view_module_version": "1.5.0",
            "box_style": "",
            "layout": "IPY_MODEL_b5fc1cdcd8564a0098e79efa259678b9",
            "_model_module": "@jupyter-widgets/controls",
            "children": [
              "IPY_MODEL_72bcbdaaf42546bdafc63be6033e9d3a",
              "IPY_MODEL_8edc7c04da584097bc8d6411274f3531"
            ]
          }
        },
        "b5fc1cdcd8564a0098e79efa259678b9": {
          "model_module": "@jupyter-widgets/base",
          "model_name": "LayoutModel",
          "state": {
            "_view_name": "LayoutView",
            "grid_template_rows": null,
            "right": null,
            "justify_content": null,
            "_view_module": "@jupyter-widgets/base",
            "overflow": null,
            "_model_module_version": "1.2.0",
            "_view_count": null,
            "flex_flow": null,
            "width": null,
            "min_width": null,
            "border": null,
            "align_items": null,
            "bottom": null,
            "_model_module": "@jupyter-widgets/base",
            "top": null,
            "grid_column": null,
            "overflow_y": null,
            "overflow_x": null,
            "grid_auto_flow": null,
            "grid_area": null,
            "grid_template_columns": null,
            "flex": null,
            "_model_name": "LayoutModel",
            "justify_items": null,
            "grid_row": null,
            "max_height": null,
            "align_content": null,
            "visibility": null,
            "align_self": null,
            "height": null,
            "min_height": null,
            "padding": null,
            "grid_auto_rows": null,
            "grid_gap": null,
            "max_width": null,
            "order": null,
            "_view_module_version": "1.2.0",
            "grid_template_areas": null,
            "object_position": null,
            "object_fit": null,
            "grid_auto_columns": null,
            "margin": null,
            "display": null,
            "left": null
          }
        },
        "72bcbdaaf42546bdafc63be6033e9d3a": {
          "model_module": "@jupyter-widgets/controls",
          "model_name": "FloatProgressModel",
          "state": {
            "_view_name": "ProgressView",
            "style": "IPY_MODEL_f5c535804f004cd6b9b3381d993fdbc3",
            "_dom_classes": [],
            "description": "100%",
            "_model_name": "FloatProgressModel",
            "bar_style": "success",
            "max": 3696,
            "_view_module": "@jupyter-widgets/controls",
            "_model_module_version": "1.5.0",
            "value": 3696,
            "_view_count": null,
            "_view_module_version": "1.5.0",
            "orientation": "horizontal",
            "min": 0,
            "description_tooltip": null,
            "_model_module": "@jupyter-widgets/controls",
            "layout": "IPY_MODEL_cbbc2e1757094e87b5888c2a10f282ad"
          }
        },
        "8edc7c04da584097bc8d6411274f3531": {
          "model_module": "@jupyter-widgets/controls",
          "model_name": "HTMLModel",
          "state": {
            "_view_name": "HTMLView",
            "style": "IPY_MODEL_34be8380f04d4e409dc359c050d94d14",
            "_dom_classes": [],
            "description": "",
            "_model_name": "HTMLModel",
            "placeholder": "​",
            "_view_module": "@jupyter-widgets/controls",
            "_model_module_version": "1.5.0",
            "value": " 3696/3696 [03:53&lt;00:00, 15.81it/s]",
            "_view_count": null,
            "_view_module_version": "1.5.0",
            "description_tooltip": null,
            "_model_module": "@jupyter-widgets/controls",
            "layout": "IPY_MODEL_acdae50182464bb6bef4d3962c2f4a07"
          }
        },
        "f5c535804f004cd6b9b3381d993fdbc3": {
          "model_module": "@jupyter-widgets/controls",
          "model_name": "ProgressStyleModel",
          "state": {
            "_view_name": "StyleView",
            "_model_name": "ProgressStyleModel",
            "description_width": "initial",
            "_view_module": "@jupyter-widgets/base",
            "_model_module_version": "1.5.0",
            "_view_count": null,
            "_view_module_version": "1.2.0",
            "bar_color": null,
            "_model_module": "@jupyter-widgets/controls"
          }
        },
        "cbbc2e1757094e87b5888c2a10f282ad": {
          "model_module": "@jupyter-widgets/base",
          "model_name": "LayoutModel",
          "state": {
            "_view_name": "LayoutView",
            "grid_template_rows": null,
            "right": null,
            "justify_content": null,
            "_view_module": "@jupyter-widgets/base",
            "overflow": null,
            "_model_module_version": "1.2.0",
            "_view_count": null,
            "flex_flow": null,
            "width": null,
            "min_width": null,
            "border": null,
            "align_items": null,
            "bottom": null,
            "_model_module": "@jupyter-widgets/base",
            "top": null,
            "grid_column": null,
            "overflow_y": null,
            "overflow_x": null,
            "grid_auto_flow": null,
            "grid_area": null,
            "grid_template_columns": null,
            "flex": null,
            "_model_name": "LayoutModel",
            "justify_items": null,
            "grid_row": null,
            "max_height": null,
            "align_content": null,
            "visibility": null,
            "align_self": null,
            "height": null,
            "min_height": null,
            "padding": null,
            "grid_auto_rows": null,
            "grid_gap": null,
            "max_width": null,
            "order": null,
            "_view_module_version": "1.2.0",
            "grid_template_areas": null,
            "object_position": null,
            "object_fit": null,
            "grid_auto_columns": null,
            "margin": null,
            "display": null,
            "left": null
          }
        },
        "34be8380f04d4e409dc359c050d94d14": {
          "model_module": "@jupyter-widgets/controls",
          "model_name": "DescriptionStyleModel",
          "state": {
            "_view_name": "StyleView",
            "_model_name": "DescriptionStyleModel",
            "description_width": "",
            "_view_module": "@jupyter-widgets/base",
            "_model_module_version": "1.5.0",
            "_view_count": null,
            "_view_module_version": "1.2.0",
            "_model_module": "@jupyter-widgets/controls"
          }
        },
        "acdae50182464bb6bef4d3962c2f4a07": {
          "model_module": "@jupyter-widgets/base",
          "model_name": "LayoutModel",
          "state": {
            "_view_name": "LayoutView",
            "grid_template_rows": null,
            "right": null,
            "justify_content": null,
            "_view_module": "@jupyter-widgets/base",
            "overflow": null,
            "_model_module_version": "1.2.0",
            "_view_count": null,
            "flex_flow": null,
            "width": null,
            "min_width": null,
            "border": null,
            "align_items": null,
            "bottom": null,
            "_model_module": "@jupyter-widgets/base",
            "top": null,
            "grid_column": null,
            "overflow_y": null,
            "overflow_x": null,
            "grid_auto_flow": null,
            "grid_area": null,
            "grid_template_columns": null,
            "flex": null,
            "_model_name": "LayoutModel",
            "justify_items": null,
            "grid_row": null,
            "max_height": null,
            "align_content": null,
            "visibility": null,
            "align_self": null,
            "height": null,
            "min_height": null,
            "padding": null,
            "grid_auto_rows": null,
            "grid_gap": null,
            "max_width": null,
            "order": null,
            "_view_module_version": "1.2.0",
            "grid_template_areas": null,
            "object_position": null,
            "object_fit": null,
            "grid_auto_columns": null,
            "margin": null,
            "display": null,
            "left": null
          }
        },
        "d5a64faccf344fee915763ef436ac51b": {
          "model_module": "@jupyter-widgets/controls",
          "model_name": "HBoxModel",
          "state": {
            "_view_name": "HBoxView",
            "_dom_classes": [],
            "_model_name": "HBoxModel",
            "_view_module": "@jupyter-widgets/controls",
            "_model_module_version": "1.5.0",
            "_view_count": null,
            "_view_module_version": "1.5.0",
            "box_style": "",
            "layout": "IPY_MODEL_3924dc7eeeaa47fcb733166e1f19632e",
            "_model_module": "@jupyter-widgets/controls",
            "children": [
              "IPY_MODEL_ed42826dcdbb404da5834f8fb8fa50ae",
              "IPY_MODEL_970fafd2580844bcbe8e2a859d4a3fb7"
            ]
          }
        },
        "3924dc7eeeaa47fcb733166e1f19632e": {
          "model_module": "@jupyter-widgets/base",
          "model_name": "LayoutModel",
          "state": {
            "_view_name": "LayoutView",
            "grid_template_rows": null,
            "right": null,
            "justify_content": null,
            "_view_module": "@jupyter-widgets/base",
            "overflow": null,
            "_model_module_version": "1.2.0",
            "_view_count": null,
            "flex_flow": null,
            "width": null,
            "min_width": null,
            "border": null,
            "align_items": null,
            "bottom": null,
            "_model_module": "@jupyter-widgets/base",
            "top": null,
            "grid_column": null,
            "overflow_y": null,
            "overflow_x": null,
            "grid_auto_flow": null,
            "grid_area": null,
            "grid_template_columns": null,
            "flex": null,
            "_model_name": "LayoutModel",
            "justify_items": null,
            "grid_row": null,
            "max_height": null,
            "align_content": null,
            "visibility": null,
            "align_self": null,
            "height": null,
            "min_height": null,
            "padding": null,
            "grid_auto_rows": null,
            "grid_gap": null,
            "max_width": null,
            "order": null,
            "_view_module_version": "1.2.0",
            "grid_template_areas": null,
            "object_position": null,
            "object_fit": null,
            "grid_auto_columns": null,
            "margin": null,
            "display": null,
            "left": null
          }
        },
        "ed42826dcdbb404da5834f8fb8fa50ae": {
          "model_module": "@jupyter-widgets/controls",
          "model_name": "FloatProgressModel",
          "state": {
            "_view_name": "ProgressView",
            "style": "IPY_MODEL_f4de654dde2d46e6b1c07834a4b0e6fa",
            "_dom_classes": [],
            "description": "100%",
            "_model_name": "FloatProgressModel",
            "bar_style": "success",
            "max": 3696,
            "_view_module": "@jupyter-widgets/controls",
            "_model_module_version": "1.5.0",
            "value": 3696,
            "_view_count": null,
            "_view_module_version": "1.5.0",
            "orientation": "horizontal",
            "min": 0,
            "description_tooltip": null,
            "_model_module": "@jupyter-widgets/controls",
            "layout": "IPY_MODEL_a1a5afb54afc47ff9933c8faad0f592c"
          }
        },
        "970fafd2580844bcbe8e2a859d4a3fb7": {
          "model_module": "@jupyter-widgets/controls",
          "model_name": "HTMLModel",
          "state": {
            "_view_name": "HTMLView",
            "style": "IPY_MODEL_3460ba4a9c3b43d584525962adb1711e",
            "_dom_classes": [],
            "description": "",
            "_model_name": "HTMLModel",
            "placeholder": "​",
            "_view_module": "@jupyter-widgets/controls",
            "_model_module_version": "1.5.0",
            "value": " 3696/3696 [02:38&lt;00:00, 23.39it/s]",
            "_view_count": null,
            "_view_module_version": "1.5.0",
            "description_tooltip": null,
            "_model_module": "@jupyter-widgets/controls",
            "layout": "IPY_MODEL_bb9309dd7e56465d944fc0df872025fb"
          }
        },
        "f4de654dde2d46e6b1c07834a4b0e6fa": {
          "model_module": "@jupyter-widgets/controls",
          "model_name": "ProgressStyleModel",
          "state": {
            "_view_name": "StyleView",
            "_model_name": "ProgressStyleModel",
            "description_width": "initial",
            "_view_module": "@jupyter-widgets/base",
            "_model_module_version": "1.5.0",
            "_view_count": null,
            "_view_module_version": "1.2.0",
            "bar_color": null,
            "_model_module": "@jupyter-widgets/controls"
          }
        },
        "a1a5afb54afc47ff9933c8faad0f592c": {
          "model_module": "@jupyter-widgets/base",
          "model_name": "LayoutModel",
          "state": {
            "_view_name": "LayoutView",
            "grid_template_rows": null,
            "right": null,
            "justify_content": null,
            "_view_module": "@jupyter-widgets/base",
            "overflow": null,
            "_model_module_version": "1.2.0",
            "_view_count": null,
            "flex_flow": null,
            "width": null,
            "min_width": null,
            "border": null,
            "align_items": null,
            "bottom": null,
            "_model_module": "@jupyter-widgets/base",
            "top": null,
            "grid_column": null,
            "overflow_y": null,
            "overflow_x": null,
            "grid_auto_flow": null,
            "grid_area": null,
            "grid_template_columns": null,
            "flex": null,
            "_model_name": "LayoutModel",
            "justify_items": null,
            "grid_row": null,
            "max_height": null,
            "align_content": null,
            "visibility": null,
            "align_self": null,
            "height": null,
            "min_height": null,
            "padding": null,
            "grid_auto_rows": null,
            "grid_gap": null,
            "max_width": null,
            "order": null,
            "_view_module_version": "1.2.0",
            "grid_template_areas": null,
            "object_position": null,
            "object_fit": null,
            "grid_auto_columns": null,
            "margin": null,
            "display": null,
            "left": null
          }
        },
        "3460ba4a9c3b43d584525962adb1711e": {
          "model_module": "@jupyter-widgets/controls",
          "model_name": "DescriptionStyleModel",
          "state": {
            "_view_name": "StyleView",
            "_model_name": "DescriptionStyleModel",
            "description_width": "",
            "_view_module": "@jupyter-widgets/base",
            "_model_module_version": "1.5.0",
            "_view_count": null,
            "_view_module_version": "1.2.0",
            "_model_module": "@jupyter-widgets/controls"
          }
        },
        "bb9309dd7e56465d944fc0df872025fb": {
          "model_module": "@jupyter-widgets/base",
          "model_name": "LayoutModel",
          "state": {
            "_view_name": "LayoutView",
            "grid_template_rows": null,
            "right": null,
            "justify_content": null,
            "_view_module": "@jupyter-widgets/base",
            "overflow": null,
            "_model_module_version": "1.2.0",
            "_view_count": null,
            "flex_flow": null,
            "width": null,
            "min_width": null,
            "border": null,
            "align_items": null,
            "bottom": null,
            "_model_module": "@jupyter-widgets/base",
            "top": null,
            "grid_column": null,
            "overflow_y": null,
            "overflow_x": null,
            "grid_auto_flow": null,
            "grid_area": null,
            "grid_template_columns": null,
            "flex": null,
            "_model_name": "LayoutModel",
            "justify_items": null,
            "grid_row": null,
            "max_height": null,
            "align_content": null,
            "visibility": null,
            "align_self": null,
            "height": null,
            "min_height": null,
            "padding": null,
            "grid_auto_rows": null,
            "grid_gap": null,
            "max_width": null,
            "order": null,
            "_view_module_version": "1.2.0",
            "grid_template_areas": null,
            "object_position": null,
            "object_fit": null,
            "grid_auto_columns": null,
            "margin": null,
            "display": null,
            "left": null
          }
        }
      }
    }
  },
  "cells": [
    {
      "cell_type": "markdown",
      "metadata": {
        "id": "view-in-github",
        "colab_type": "text"
      },
      "source": [
        "<a href=\"https://colab.research.google.com/github/cristinakuo/thesis-pre-research/blob/master/BLSTM_experiment.ipynb\" target=\"_parent\"><img src=\"https://colab.research.google.com/assets/colab-badge.svg\" alt=\"Open In Colab\"/></a>"
      ]
    },
    {
      "cell_type": "markdown",
      "metadata": {
        "id": "1ZRLOrw0EEEv",
        "colab_type": "text"
      },
      "source": [
        "# Sequence Labelling with a Bidirectional Long Short Term Memory RNN"
      ]
    },
    {
      "cell_type": "markdown",
      "metadata": {
        "id": "odvQ5YmAFPAJ",
        "colab_type": "text"
      },
      "source": [
        "## Google Drive Mounting"
      ]
    },
    {
      "cell_type": "code",
      "metadata": {
        "id": "Bo9SdUhjF40D",
        "colab_type": "code",
        "colab": {
          "base_uri": "https://localhost:8080/",
          "height": 35
        },
        "outputId": "d5c29e83-e7d5-471e-8f31-a6ab52f5e711"
      },
      "source": [
        "from google.colab import drive\n",
        "drive.mount('/content/gdrive', force_remount=True)"
      ],
      "execution_count": 31,
      "outputs": [
        {
          "output_type": "stream",
          "text": [
            "Mounted at /content/gdrive\n"
          ],
          "name": "stdout"
        }
      ]
    },
    {
      "cell_type": "code",
      "metadata": {
        "id": "sOrRAr1bMo1M",
        "colab_type": "code",
        "colab": {
          "base_uri": "https://localhost:8080/",
          "height": 35
        },
        "outputId": "21fb3a1c-e340-4db9-d774-ad4944f09564"
      },
      "source": [
        "import torch\n",
        "import torch.nn as nn\n",
        "import tqdm\n",
        "\n",
        "print(\"CUDA available: \", torch.cuda.is_available())\n",
        "\n",
        "if torch.cuda.is_available():  \n",
        "  dev = \"cuda:0\" \n",
        "else:  \n",
        "  dev = \"cpu\" \n",
        "\n",
        "# device = torch.device(dev)  \n",
        "device = torch.device('cpu')  "
      ],
      "execution_count": 32,
      "outputs": [
        {
          "output_type": "stream",
          "text": [
            "CUDA available:  True\n"
          ],
          "name": "stdout"
        }
      ]
    },
    {
      "cell_type": "markdown",
      "metadata": {
        "id": "DFvmcmNAdHCd",
        "colab_type": "text"
      },
      "source": [
        "## Data loading"
      ]
    },
    {
      "cell_type": "code",
      "metadata": {
        "id": "Ghi_V23TAKPt",
        "colab_type": "code",
        "colab": {}
      },
      "source": [
        "# Load files: out_lab_fea_xx.pkl\n",
        "# Saves the dictionary total_set in 3 files \n",
        "# that should contain train, dev and test data (in any order)\n",
        "\n",
        "import pickle\n",
        "import numpy as np\n",
        "\n",
        "out_folder = '/content/gdrive/My Drive/Tesis/data/'\n",
        "xi = 3 # Name of the 3 files (train, dev y test) \n",
        "xf = 6\n",
        "\n",
        "total_set = dict()\n",
        "for i in range(xi,xf):\n",
        "    idf = str(i)\n",
        "    out_file = 'out_lab_fea_' + idf + '.pkl'\n",
        "\n",
        "    with open(out_folder+out_file,'rb') as f:\n",
        "        total = pickle.load(f)\n",
        "    total_set[total[5]] = total\n",
        "    \n",
        "data_name_train = total_set['train'][0]\n",
        "data_end_index_train = total_set['train'][1]\n",
        "fea_dict_train = total_set['train'][2]\n",
        "lab_dict_train = total_set['train'][3]\n",
        "data_set_train = total_set['train'][4]\n",
        "todo_train = total_set['train'][5]\n",
        "\n",
        "data_name_dev = total_set['dev'][0]\n",
        "data_end_index_dev = total_set['dev'][1]\n",
        "fea_dict_dev = total_set['dev'][2]\n",
        "lab_dict_dev = total_set['dev'][3]\n",
        "data_set_dev = total_set['dev'][4]\n",
        "todo_dev = total_set['dev'][5]\n",
        "\n",
        "data_name_test = total_set['test'][0]\n",
        "data_end_index_test = total_set['test'][1]\n",
        "fea_dict_test = total_set['test'][2]\n",
        "lab_dict_test = total_set['test'][3]\n",
        "data_set_test = total_set['test'][4]\n",
        "todo_test = total_set['test'][5]"
      ],
      "execution_count": 33,
      "outputs": []
    },
    {
      "cell_type": "code",
      "metadata": {
        "id": "P_UotMLSnUEq",
        "colab_type": "code",
        "colab": {
          "base_uri": "https://localhost:8080/",
          "height": 89
        },
        "outputId": "37402041-c06f-4a2e-fc2f-7c48c16d0b72"
      },
      "source": [
        "# Check number of phrases in transcripts\n",
        "nr_phrases_train = len(data_name_train)\n",
        "nr_phrases_test = len(data_name_test)\n",
        "\n",
        "print('Nr of phrases (train): ', nr_phrases_train)\n",
        "print('Nr of phrases (test): ', nr_phrases_test)\n",
        "\n",
        "# Check number of phrases after splitting using the index array\n",
        "data_set_train_phrases = np.split(data_set_train, data_end_index_train)[:-1] # Last item is empty\n",
        "data_set_test_phrases = np.split(data_set_test, data_end_index_test)[:-1]\n",
        "\n",
        "print('Train: split data into {} phrases.'.format(len(data_set_train_phrases)))\n",
        "print('Test: split data into {} phrases.'.format(len(data_set_test_phrases)))"
      ],
      "execution_count": 34,
      "outputs": [
        {
          "output_type": "stream",
          "text": [
            "Nr of phrases (train):  3696\n",
            "Nr of phrases (test):  192\n",
            "Train: split data into 3696 phrases.\n",
            "Test: split data into 192 phrases.\n"
          ],
          "name": "stdout"
        }
      ]
    },
    {
      "cell_type": "code",
      "metadata": {
        "id": "HB-SVLw2QdDx",
        "colab_type": "code",
        "colab": {
          "base_uri": "https://localhost:8080/",
          "height": 161
        },
        "outputId": "2fe82db5-246b-4a3a-acd0-e883b3c65218"
      },
      "source": [
        "num_coef = 13\n",
        "\n",
        "# Divide data into input (x) y output (y)\n",
        "x_train = [data_set_train[:,:-1] for data_set_train in data_set_train_phrases]\n",
        "y_train = [data_set_train[:,-1].transpose() for data_set_train in data_set_train_phrases]\n",
        "x_test = [data_set_test[:,:-1] for data_set_test in data_set_test_phrases]\n",
        "y_test = [data_set_test[:,-1].transpose() for data_set_test in data_set_test_phrases]\n",
        "\n",
        "# Add batch dimension to inputs\n",
        "# x_train = [x.reshape((1, -1, num_coef )) for x in x_train]\n",
        "# x_test = [x.reshape(1, -1, num_coef) for x in x_test]\n",
        "\n",
        "print('x_train shape: ', x_train[0].shape)\n",
        "print('x_test shape: ', x_test[0].shape)\n",
        "\n",
        "# Transform to tensor\n",
        "x_train = [torch.from_numpy(phrase).requires_grad_().type(torch.FloatTensor) for phrase in x_train]\n",
        "y_train = [torch.from_numpy(phrase).type(torch.LongTensor) for phrase in y_train]\n",
        "x_test = [torch.from_numpy(phrase).requires_grad_().type(torch.FloatTensor) for phrase in x_test]\n",
        "y_test = [torch.from_numpy(phrase).type(torch.LongTensor) for phrase in y_test]\n",
        "\n",
        "print('x_train shape: ', x_train[0].shape)\n",
        "print('x_test shape: ', x_test[0].shape)\n",
        "\n",
        "# Save in Device\n",
        "x_train = [phrase.to(device) for phrase in x_train]\n",
        "y_train = [phrase.to(device) for phrase in y_train]\n",
        "x_test = [phrase.to(device) for phrase in x_test]\n",
        "y_test = [phrase.to(device) for phrase in y_test]\n",
        "\n",
        "# Get size of tran and test set\n",
        "train_size = len(x_train)\n",
        "test_size = len(x_test)\n",
        "\n",
        "print(\"--Train data\")\n",
        "print(\"Number of samples: \", train_size)\n",
        "\n",
        "print(\"--Test data\")\n",
        "print(\"Number of samples: \", test_size)"
      ],
      "execution_count": 35,
      "outputs": [
        {
          "output_type": "stream",
          "text": [
            "x_train shape:  (90, 13)\n",
            "x_test shape:  (129, 13)\n",
            "x_train shape:  torch.Size([90, 13])\n",
            "x_test shape:  torch.Size([129, 13])\n",
            "--Train data\n",
            "Number of samples:  3696\n",
            "--Test data\n",
            "Number of samples:  192\n"
          ],
          "name": "stdout"
        }
      ]
    },
    {
      "cell_type": "code",
      "metadata": {
        "id": "RuvQmSZsz6ck",
        "colab_type": "code",
        "colab": {}
      },
      "source": [
        ""
      ],
      "execution_count": null,
      "outputs": []
    },
    {
      "cell_type": "markdown",
      "metadata": {
        "id": "a8pspdEXmIoN",
        "colab_type": "text"
      },
      "source": [
        "## Define BLSTM Class"
      ]
    },
    {
      "cell_type": "code",
      "metadata": {
        "id": "I6gS6g5eMGDF",
        "colab_type": "code",
        "colab": {}
      },
      "source": [
        "class BLSTMModel(nn.Module):\n",
        "  def __init__(self, input_size, hidden_size, nr_layers, output_size):\n",
        "    super(BLSTMModel, self).__init__()\n",
        "    self.input_size = input_size\n",
        "    self.hidden_size = hidden_size\n",
        "    self.output_size = output_size\n",
        "    self.nr_layers = nr_layers\n",
        "\n",
        "    # Hidden layer\n",
        "    # batch_first=True means input/output tensors to be of shape\n",
        "    # (batch_dim, seq_dim, feature_dim)\n",
        "    self.lstm = nn.LSTM(self.input_size, self.hidden_size, self.nr_layers, \n",
        "                        batch_first=True, bidirectional=True, bias=True)\n",
        "    \n",
        "    # Output Layer\n",
        "    # Input is hidden_size*2 because it has a bidirectional LSTM as previous layer\n",
        "    self.fc = torch.nn.Linear(self.hidden_size*2, self.output_size, bias=True)\n",
        "\n",
        "  def forward(self, x, hidden=None):\n",
        "\n",
        "    #if hidden is None:\n",
        "    #  hidden = self.init_hidden(x)\n",
        "    \n",
        "    # Detach from their history\n",
        "    #hidden[0].detach_()\n",
        "    #hidden[1].detach_()\n",
        "    \n",
        "    if hidden:\n",
        "      hidden[0].detach_()\n",
        "      hidden[1].detach_()\n",
        "\n",
        "    out, (hn, cn) = self.lstm(x, hidden)\n",
        "\n",
        "    print(\"After lstm:\")\n",
        "    print(type(out))\n",
        "\n",
        "    # unpack\n",
        "    unpacked, unpacked_len = torch.nn.utils.rnn.pad_packed_sequence(out, batch_first=True)\n",
        "    \n",
        "    # out = self.fc(out.squeeze(0))  # Squeeze to remove batch dim\n",
        "    out = self.fc(unpacked)\n",
        "    \n",
        "    print(\"After linear: \")\n",
        "    print(out.shape)\n",
        "\n",
        "    hidden = (hn, cn)\n",
        "\n",
        "    return out, hidden\n",
        "\n",
        "  def init_hidden(self, x):\n",
        "    h0 = torch.zeros(self.nr_layers*2, x.size(0), self.hidden_size).requires_grad_().to(device)\n",
        "    c0 = torch.zeros(self.nr_layers*2, x.size(0), self.hidden_size).requires_grad_().to(device)\n",
        "\n",
        "    return (h0, c0)\n",
        "    "
      ],
      "execution_count": 67,
      "outputs": []
    },
    {
      "cell_type": "markdown",
      "metadata": {
        "id": "4jQOdjojoj4D",
        "colab_type": "text"
      },
      "source": [
        "## Instantiate BLSTM model"
      ]
    },
    {
      "cell_type": "code",
      "metadata": {
        "id": "X3UbBXfIWW_A",
        "colab_type": "code",
        "colab": {
          "base_uri": "https://localhost:8080/",
          "height": 107
        },
        "outputId": "de411e00-e6a4-45c9-e10a-a14a53419807"
      },
      "source": [
        "NR_PHONEMES = 61\n",
        "input_size = num_coef  # Number of coefficients\n",
        "hidden_size = 93  # Specified by Graves Is this ok\n",
        "output_size = NR_PHONEMES  # Number of phonemes\n",
        "layer_size = 1 \n",
        "\n",
        "print(\"Creating MLP model with parameters:\")\n",
        "print(\"Input size: \", input_size)\n",
        "print(\"Hidden size: \", hidden_size)\n",
        "print(\"Layer size: \", layer_size)\n",
        "print(\"Output size: \", output_size)\n",
        "\n",
        "model = BLSTMModel(input_size, hidden_size, layer_size, output_size)\n",
        "model = model.to(device)"
      ],
      "execution_count": 68,
      "outputs": [
        {
          "output_type": "stream",
          "text": [
            "Creating MLP model with parameters:\n",
            "Input size:  13\n",
            "Hidden size:  93\n",
            "Layer size:  1\n",
            "Output size:  61\n"
          ],
          "name": "stdout"
        }
      ]
    },
    {
      "cell_type": "code",
      "metadata": {
        "colab_type": "code",
        "id": "2BGkZTdgScE6",
        "colab": {}
      },
      "source": [
        "learning_rate = 10e-5 # Specified by Graves\n",
        "momentum = 0.9\n",
        "\n",
        "cost_function = nn.CrossEntropyLoss(ignore_index=0)\n",
        "optimizer = torch.optim.SGD(model.parameters(), lr=learning_rate, momentum=momentum)"
      ],
      "execution_count": 69,
      "outputs": []
    },
    {
      "cell_type": "code",
      "metadata": {
        "id": "ThSFZNYyK8cp",
        "colab_type": "code",
        "colab": {
          "base_uri": "https://localhost:8080/",
          "height": 35
        },
        "outputId": "33049341-6038-4a57-ca89-2ca354fd63da"
      },
      "source": [
        "print(y_train[0].shape)"
      ],
      "execution_count": null,
      "outputs": [
        {
          "output_type": "stream",
          "text": [
            "torch.Size([90])\n"
          ],
          "name": "stdout"
        }
      ]
    },
    {
      "cell_type": "markdown",
      "metadata": {
        "id": "9qdW1c2xFWQC",
        "colab_type": "text"
      },
      "source": [
        "## Testing pad sequences for forward()"
      ]
    },
    {
      "cell_type": "code",
      "metadata": {
        "id": "SdbsJOkl0s_c",
        "colab_type": "code",
        "colab": {
          "base_uri": "https://localhost:8080/",
          "height": 197
        },
        "outputId": "ec395c2a-8ec9-4b1b-c29d-facdde07c25f"
      },
      "source": [
        "model.train()\n",
        "# Testing pad sequences in a batch\n",
        "print(x_train[0].shape)\n",
        "print(x_train[1].shape)\n",
        "a = torch.nn.utils.rnn.pad_sequence(x_train[:8], batch_first=True)\n",
        "y = torch.nn.utils.rnn.pad_sequence(y_train[:8], batch_first=True)\n",
        "print(a.shape)\n",
        "# get the length of each seq in your batch\n",
        "seq_lengths = list(map(len, x_train[:8]))\n",
        "print(seq_lengths)\n",
        "seq_lengths_y = list(map(len, y_train[:8]))\n",
        "print(seq_lengths_y)\n",
        "packed_sequence = torch.nn.utils.rnn.pack_padded_sequence(a, batch_first=True, lengths=seq_lengths, enforce_sorted=False)\n",
        "packed_sequence_y = torch.nn.utils.rnn.pack_padded_sequence(y, batch_first=True, lengths=seq_lengths_y, enforce_sorted=False)\n",
        "packed_sequence.to(device)\n",
        "\n",
        "y_padded, _ = model(packed_sequence)\n",
        "\n",
        "\n",
        "print(\"(pred size): \", y_padded.shape)\n",
        "# Compute loss\n",
        "# y_pred (minibatch, seq_len, dim) --> no esta dando bien!\n",
        "# unpacked_y (seq_len, minibatch) --> target esta dando 107, 8 No esta bien\n",
        "batch_loss = 0.0\n",
        "for i in range(y_padded.size(0)):\n",
        "  ce_loss = cost_function(y_padded[i], y[i])\n",
        "  batch_loss += ce_loss\n",
        "\n",
        "optimizer.zero_grad()\n",
        "batch_loss.backward()\n",
        "optimizer.step()\n",
        "# loss = cost_function(y_pred, y)\n",
        "\n",
        "#epoch_total_loss += loss.item()\n",
        "## Get number of Correct frames\n",
        "#y_pred_labels = torch.argmax(y_pred, dim=1)\n",
        "#nr_correct_frames += int((y_pred_labels == y_train[i]).sum())\n",
        "#nr_total_frames += len(y_train[i])\n",
        "## Backward pass\n",
        "#optimizer.zero_grad() # Clear grads before doing backward\n",
        "#loss.backward()\n",
        "#optimizer.step()"
      ],
      "execution_count": 70,
      "outputs": [
        {
          "output_type": "stream",
          "text": [
            "torch.Size([90, 13])\n",
            "torch.Size([97, 13])\n",
            "torch.Size([8, 107, 13])\n",
            "[90, 97, 99, 103, 104, 104, 107, 107]\n",
            "[90, 97, 99, 103, 104, 104, 107, 107]\n",
            "After lstm:\n",
            "<class 'torch.nn.utils.rnn.PackedSequence'>\n",
            "After linear: \n",
            "torch.Size([8, 107, 61])\n",
            "(pred size):  torch.Size([8, 107, 61])\n"
          ],
          "name": "stdout"
        }
      ]
    },
    {
      "cell_type": "markdown",
      "metadata": {
        "id": "zSl6nvoJo6pC",
        "colab_type": "text"
      },
      "source": [
        "## Evaluate model in test data"
      ]
    },
    {
      "cell_type": "code",
      "metadata": {
        "id": "Ar78LCNTNhb9",
        "colab_type": "code",
        "colab": {}
      },
      "source": [
        "def evaluate_model(model, input_data, labels):\n",
        "  \n",
        "  model.eval()\n",
        "  \n",
        "  total_loss = 0\n",
        "  nr_correct_frames = 0\n",
        "  nr_total_frames = 0\n",
        "  \n",
        "  hidden = None\n",
        "  for (x_test_phrase, y_test_phrase) in zip(input_data, labels):\n",
        "    #x_test_phrase = x_test_phrase.reshape(-1, x_test_phrase.size(0), input_size)\n",
        "    output_test, _ = model(x_test_phrase, hidden)\n",
        "  \n",
        "    # Accumulate loss\n",
        "    total_loss += cost_function(output_test, y_test_phrase)\n",
        "  \n",
        "    # Calculate number of correct frames\n",
        "    y_prediction_test = torch.argmax(output_test, dim=1)\n",
        "    nr_correct_frames += int((y_prediction_test == y_test_phrase).sum())\n",
        "    nr_total_frames += len(y_test_phrase)\n",
        "  \n",
        "  # Arrange return values\n",
        "  average_loss = total_loss/test_size\n",
        "  average_loss = average_loss.item()\n",
        "  \n",
        "  perc_correct = nr_correct_frames/nr_total_frames*100\n",
        "  \n",
        "  return average_loss, perc_correct"
      ],
      "execution_count": null,
      "outputs": []
    },
    {
      "cell_type": "code",
      "metadata": {
        "id": "oGYKsN8gnzgE",
        "colab_type": "code",
        "colab": {
          "base_uri": "https://localhost:8080/",
          "height": 53
        },
        "outputId": "50dc1bbb-83a9-4e04-e9e4-28029b75c23a"
      },
      "source": [
        "average_loss, perc_correct = evaluate_model(model, x_test, y_test)\n",
        "\n",
        "print('Loss:', average_loss)\n",
        "print(\"Correct frames percentage: \", perc_correct)"
      ],
      "execution_count": null,
      "outputs": [
        {
          "output_type": "stream",
          "text": [
            "Loss: 4.112253189086914\n",
            "Correct frames percentage:  0.9582347761529032\n"
          ],
          "name": "stdout"
        }
      ]
    },
    {
      "cell_type": "code",
      "metadata": {
        "id": "za6q2eGkDykV",
        "colab_type": "code",
        "colab": {}
      },
      "source": [
        "def train_model(model, x_train, y_train):\n",
        "  model.train()\n",
        "\n",
        "  train_size = len(x_train)\n",
        "\n",
        "  hidden = None\n",
        "  \n",
        "  nr_correct_frames = 0\n",
        "  nr_total_frames = 0\n",
        "  epoch_total_loss = 0\n",
        "\n",
        "  # Randomize the order of phrases for each epoch\n",
        "  random_idxs = np.random.permutation(train_size)\n",
        "  \n",
        "  for i in tqdm.notebook.tqdm(random_idxs):\n",
        "\n",
        "    # At each batch, we detach the hidden state from how it was previously produced.\n",
        "    # If we didn't, the model would try backpropagating all the way to the start of the dataset.\n",
        "    model.zero_grad()\n",
        "\n",
        "    # Forward pass\n",
        "    y_pred, hidden = model(x_train[i], hidden)\n",
        "    \n",
        "    # Compute loss\n",
        "    loss = cost_function(y_pred, y_train[i])\n",
        "    epoch_total_loss += loss.item()\n",
        "\n",
        "    # Get number of Correct frames\n",
        "    y_pred_labels = torch.argmax(y_pred, dim=1)\n",
        "    nr_correct_frames += int((y_pred_labels == y_train[i]).sum())\n",
        "    nr_total_frames += len(y_train[i])\n",
        "\n",
        "    # Backward pass\n",
        "    optimizer.zero_grad() # Clear grads before doing backward\n",
        "    loss.backward()\n",
        "    optimizer.step()\n",
        "  \n",
        "  # Epoch training results\n",
        "  epoch_loss_train = epoch_total_loss/train_size\n",
        "  perc_correct_train = nr_correct_frames/nr_total_frames*100\n",
        "\n",
        "  return epoch_loss_train, perc_correct_train"
      ],
      "execution_count": null,
      "outputs": []
    },
    {
      "cell_type": "markdown",
      "metadata": {
        "id": "En0ymTu5tRaB",
        "colab_type": "text"
      },
      "source": [
        "### Training time"
      ]
    },
    {
      "cell_type": "code",
      "metadata": {
        "id": "TpTIShCEyVy7",
        "colab_type": "code",
        "colab": {
          "base_uri": "https://localhost:8080/",
          "height": 1000,
          "referenced_widgets": [
            "230c49abdd4f449ab788cf644df9d578",
            "79dfc0b263ab40199965fe0fce99b0a2",
            "c431ce39617a4f02a899cd8e36d63622",
            "13e4571de0d643279e8490fe2076a348",
            "b8e33879b13146f183579e38af22e08b",
            "b12f06eafdbe4723bde3e8107518719f",
            "c969df16b2a94d5f8c9ef8cb7c682430",
            "a470fed21d5c44c7aa14d3100f969a42",
            "6c6f538ba3d54aa4a66915d118dc1825",
            "d2c04dce69b64059851d00b0d8086398",
            "b7a8e16234804c72a4ddde5b4d2bca6d",
            "fd23b1cda82e43e28e5c2e56a765101d",
            "1079e04a60f242c5b6cd8779757c9089",
            "e3c167a294464f368077a6972c226368",
            "099b7f596fba40b18b945278fcf9f153",
            "c35f9b7789af4e678c1251e9ad362ca5",
            "41914cf7121b4a20abf27fdfe4d3b96e",
            "8ca4c2113419407a8ada488487ca57b4",
            "bb1449832e7943848f9de80b74aa337d",
            "33f0cd54564d4b7e9a684829bf2cfe80",
            "602414345813419da4804b5a4d6ef840",
            "00de2f42c0954b9d95402f581ef34400",
            "5d59aaaeb1ec4dc58ded0ff4f797a162",
            "ef67e7ade7744e7c9cbcad2b58f566b6",
            "c2ee650253534ce09fbbbf88ff36d2e6",
            "859e19cf50674b12bed48b1a1d67ac7c",
            "c453019a469a4b34993d36741fd1466f",
            "30f51cc327b34ffa83278c70b6b56bcf",
            "be445a436acb44fba1746cfc2579214d",
            "df9a13b7eef54a2ca61ab0d6c34ef92e",
            "36111b2bfc9740ccb3e80ef0d4115333",
            "88847f815daf46a6917324d96b1e57f5",
            "fcf4b6d3365b42ef84bcb40ec5bf366d",
            "72f01ff7716d42858ac44c1119076c07",
            "db368e0763694d5eb78965d9719ad707",
            "84a165f4a53d47d38dbf54c8911aabbf",
            "7588ef94e8d2417a8d6227347f82ebb5",
            "b0b9ee4a5a9f477ab570e9d7a37a14bf",
            "c770cb0bf39b478aa7c7019d7e406d59",
            "2a76f4a9ed1f4383899c045688548b12",
            "4cc39a73418f47508a2d78609c3eed9e",
            "67e71161f1f64a888f8a4b1178b8e4cd",
            "1bedb74d37a44c13861da2258159be12",
            "5d7f1091b5734a99b9ff2d52d8c1aa56",
            "069f978cc99445aa93c1b62c3c07deaf",
            "77086fd453fb4802926bb2e1352090b4",
            "f5493b7ae1a142cf96706646297fa810",
            "1daef7ac91274cd79b0fb1cf15230ce4",
            "4d3077a0f79a4ff5aa1a3e6b6ad1cda2",
            "b253c98669f4423dab161174a9251dca",
            "fc4a3a0cc03f400b9ff02707f11e80f2",
            "3abf78c95baa43c49b5d94b1df67631b",
            "eb290f648e4e48ceb75163b52b91cb4a",
            "1c981562d7be456784b810331e6a06fc",
            "bd0db1f5e3634d24b1202c2ea2d71797",
            "2e148cc7d5d2425e9e38bf57e6aa4c1c",
            "b831a51cbc534a72bf1abfb023a437cf",
            "fc76273f409b413ea58dc75539be830b",
            "e1ceb0d806d340b6b2aea39222eb3edc",
            "a31aae9530aa437d903b00223e34465e",
            "94f712a1d65749a08c61a00992f5a345",
            "15e9fc0f6a7c477e815c4c897c6ad5c9",
            "f20df04fbaf64b84a6ab194e3610b3e6",
            "72e5564306bc449595f87dcf7731dd59",
            "9e5d320dd5024c74ad7e920d33a809c7",
            "b5fc1cdcd8564a0098e79efa259678b9",
            "72bcbdaaf42546bdafc63be6033e9d3a",
            "8edc7c04da584097bc8d6411274f3531",
            "f5c535804f004cd6b9b3381d993fdbc3",
            "cbbc2e1757094e87b5888c2a10f282ad",
            "34be8380f04d4e409dc359c050d94d14",
            "acdae50182464bb6bef4d3962c2f4a07",
            "d5a64faccf344fee915763ef436ac51b",
            "3924dc7eeeaa47fcb733166e1f19632e",
            "ed42826dcdbb404da5834f8fb8fa50ae",
            "970fafd2580844bcbe8e2a859d4a3fb7",
            "f4de654dde2d46e6b1c07834a4b0e6fa",
            "a1a5afb54afc47ff9933c8faad0f592c",
            "3460ba4a9c3b43d584525962adb1711e",
            "bb9309dd7e56465d944fc0df872025fb"
          ]
        },
        "outputId": "7306e64d-fc11-4468-a7bf-55312f989eae"
      },
      "source": [
        "import time\n",
        "\n",
        "nr_epochs = 10\n",
        "epoch_losses_train = []\n",
        "epoch_losses_test = []\n",
        "epoch_correct_frames_train = []\n",
        "epoch_correct_frames_test = []\n",
        "\n",
        "start_time = time.time()\n",
        "# TODO: initial weights? Graves: from flat distribution between -0.1 and 0.1\n",
        "for epoch in range(nr_epochs):\n",
        "  print(f'EPOCH #{epoch+1}')\n",
        "  #========= Train ==============#\n",
        "  epoch_loss_train, perc_correct_train = train_model(model, x_train, y_train)\n",
        "  \n",
        "  print('Train loss:', epoch_loss_train)\n",
        "  print(\"Correct frames percentage: \", perc_correct_train)\n",
        "\n",
        "  # =====See test results========#\n",
        "  epoch_loss_test, perc_correct_test = evaluate_model(model, x_test, y_test)\n",
        "  print('Test loss:', epoch_loss_test)\n",
        "  print(\"Correct frames percentage: \", perc_correct_test)\n",
        "\n",
        "  # Append epoch results \n",
        "  epoch_losses_train.append(epoch_loss_train)\n",
        "  epoch_losses_test.append(epoch_loss_test)\n",
        "  epoch_correct_frames_train.append(perc_correct_train)\n",
        "  epoch_correct_frames_test.append(perc_correct_test)\n",
        "\n",
        "  print()\n",
        "\n",
        "\n",
        "print('Done training')\n",
        "print()\n",
        "end_time = time.time()\n",
        "\n",
        "duration = end_time - start_time\n",
        "\n",
        "print(f'Total training time: {duration} seconds')"
      ],
      "execution_count": null,
      "outputs": [
        {
          "output_type": "stream",
          "text": [
            "EPOCH #1\n"
          ],
          "name": "stdout"
        },
        {
          "output_type": "display_data",
          "data": {
            "application/vnd.jupyter.widget-view+json": {
              "model_id": "230c49abdd4f449ab788cf644df9d578",
              "version_minor": 0,
              "version_major": 2
            },
            "text/plain": [
              "HBox(children=(FloatProgress(value=0.0, max=3696.0), HTML(value='')))"
            ]
          },
          "metadata": {
            "tags": []
          }
        },
        {
          "output_type": "stream",
          "text": [
            "\n",
            "Train loss: 3.993125451978667\n",
            "Correct frames percentage:  13.924590802286227\n",
            "Test loss: 3.875851631164551\n",
            "Correct frames percentage:  16.40394343824997\n",
            "\n",
            "EPOCH #2\n"
          ],
          "name": "stdout"
        },
        {
          "output_type": "display_data",
          "data": {
            "application/vnd.jupyter.widget-view+json": {
              "model_id": "6c6f538ba3d54aa4a66915d118dc1825",
              "version_minor": 0,
              "version_major": 2
            },
            "text/plain": [
              "HBox(children=(FloatProgress(value=0.0, max=3696.0), HTML(value='')))"
            ]
          },
          "metadata": {
            "tags": []
          }
        },
        {
          "output_type": "stream",
          "text": [
            "\n",
            "Train loss: 3.7279679834584654\n",
            "Correct frames percentage:  16.456189107086182\n",
            "Test loss: 3.6112213134765625\n",
            "Correct frames percentage:  17.458864966591275\n",
            "\n",
            "EPOCH #3\n"
          ],
          "name": "stdout"
        },
        {
          "output_type": "display_data",
          "data": {
            "application/vnd.jupyter.widget-view+json": {
              "model_id": "41914cf7121b4a20abf27fdfe4d3b96e",
              "version_minor": 0,
              "version_major": 2
            },
            "text/plain": [
              "HBox(children=(FloatProgress(value=0.0, max=3696.0), HTML(value='')))"
            ]
          },
          "metadata": {
            "tags": []
          }
        },
        {
          "output_type": "stream",
          "text": [
            "\n",
            "Train loss: 3.49918523643698\n",
            "Correct frames percentage:  18.05457391963002\n",
            "Test loss: 3.4390549659729004\n",
            "Correct frames percentage:  19.194046858543828\n",
            "\n",
            "EPOCH #4\n"
          ],
          "name": "stdout"
        },
        {
          "output_type": "display_data",
          "data": {
            "application/vnd.jupyter.widget-view+json": {
              "model_id": "c2ee650253534ce09fbbbf88ff36d2e6",
              "version_minor": 0,
              "version_major": 2
            },
            "text/plain": [
              "HBox(children=(FloatProgress(value=0.0, max=3696.0), HTML(value='')))"
            ]
          },
          "metadata": {
            "tags": []
          }
        },
        {
          "output_type": "stream",
          "text": [
            "\n",
            "Train loss: 3.337082031259547\n",
            "Correct frames percentage:  21.31321994660493\n",
            "Test loss: 3.292065382003784\n",
            "Correct frames percentage:  23.028712512301663\n",
            "\n",
            "EPOCH #5\n"
          ],
          "name": "stdout"
        },
        {
          "output_type": "display_data",
          "data": {
            "application/vnd.jupyter.widget-view+json": {
              "model_id": "fcf4b6d3365b42ef84bcb40ec5bf366d",
              "version_minor": 0,
              "version_major": 2
            },
            "text/plain": [
              "HBox(children=(FloatProgress(value=0.0, max=3696.0), HTML(value='')))"
            ]
          },
          "metadata": {
            "tags": []
          }
        },
        {
          "output_type": "stream",
          "text": [
            "\n",
            "Train loss: 3.1871057057277463\n",
            "Correct frames percentage:  24.842930843341573\n",
            "Test loss: 3.157639503479004\n",
            "Correct frames percentage:  25.167906904470033\n",
            "\n",
            "EPOCH #6\n"
          ],
          "name": "stdout"
        },
        {
          "output_type": "display_data",
          "data": {
            "application/vnd.jupyter.widget-view+json": {
              "model_id": "4cc39a73418f47508a2d78609c3eed9e",
              "version_minor": 0,
              "version_major": 2
            },
            "text/plain": [
              "HBox(children=(FloatProgress(value=0.0, max=3696.0), HTML(value='')))"
            ]
          },
          "metadata": {
            "tags": []
          }
        },
        {
          "output_type": "stream",
          "text": [
            "\n",
            "Train loss: 3.0517496424384447\n",
            "Correct frames percentage:  26.26368770908845\n",
            "Test loss: 3.0403621196746826\n",
            "Correct frames percentage:  26.038087674165645\n",
            "\n",
            "EPOCH #7\n"
          ],
          "name": "stdout"
        },
        {
          "output_type": "display_data",
          "data": {
            "application/vnd.jupyter.widget-view+json": {
              "model_id": "4d3077a0f79a4ff5aa1a3e6b6ad1cda2",
              "version_minor": 0,
              "version_major": 2
            },
            "text/plain": [
              "HBox(children=(FloatProgress(value=0.0, max=3696.0), HTML(value='')))"
            ]
          },
          "metadata": {
            "tags": []
          }
        },
        {
          "output_type": "stream",
          "text": [
            "\n",
            "Train loss: 2.934352161822381\n",
            "Correct frames percentage:  27.293005210597578\n",
            "Test loss: 2.940504789352417\n",
            "Correct frames percentage:  27.058478219582522\n",
            "\n",
            "EPOCH #8\n"
          ],
          "name": "stdout"
        },
        {
          "output_type": "display_data",
          "data": {
            "application/vnd.jupyter.widget-view+json": {
              "model_id": "b831a51cbc534a72bf1abfb023a437cf",
              "version_minor": 0,
              "version_major": 2
            },
            "text/plain": [
              "HBox(children=(FloatProgress(value=0.0, max=3696.0), HTML(value='')))"
            ]
          },
          "metadata": {
            "tags": []
          }
        },
        {
          "output_type": "stream",
          "text": [
            "\n",
            "Train loss: 2.8338843202178094\n",
            "Correct frames percentage:  28.41816001273089\n",
            "Test loss: 2.855297565460205\n",
            "Correct frames percentage:  28.161743124018024\n",
            "\n",
            "EPOCH #9\n"
          ],
          "name": "stdout"
        },
        {
          "output_type": "display_data",
          "data": {
            "application/vnd.jupyter.widget-view+json": {
              "model_id": "9e5d320dd5024c74ad7e920d33a809c7",
              "version_minor": 0,
              "version_major": 2
            },
            "text/plain": [
              "HBox(children=(FloatProgress(value=0.0, max=3696.0), HTML(value='')))"
            ]
          },
          "metadata": {
            "tags": []
          }
        },
        {
          "output_type": "stream",
          "text": [
            "\n",
            "Train loss: 2.7471516312007265\n",
            "Correct frames percentage:  29.58118744015725\n",
            "Test loss: 2.781731128692627\n",
            "Correct frames percentage:  29.199399160897116\n",
            "\n",
            "EPOCH #10\n"
          ],
          "name": "stdout"
        },
        {
          "output_type": "display_data",
          "data": {
            "application/vnd.jupyter.widget-view+json": {
              "model_id": "d5a64faccf344fee915763ef436ac51b",
              "version_minor": 0,
              "version_major": 2
            },
            "text/plain": [
              "HBox(children=(FloatProgress(value=0.0, max=3696.0), HTML(value='')))"
            ]
          },
          "metadata": {
            "tags": []
          }
        },
        {
          "output_type": "stream",
          "text": [
            "\n",
            "Train loss: 2.6710374044714036\n",
            "Correct frames percentage:  30.654867476927482\n",
            "Test loss: 2.7172305583953857\n",
            "Correct frames percentage:  30.214610058875323\n",
            "\n",
            "Done training\n",
            "\n",
            "Total training time: 757.1822400093079 seconds\n"
          ],
          "name": "stdout"
        }
      ]
    },
    {
      "cell_type": "code",
      "metadata": {
        "id": "Vqg0VDYjzNhW",
        "colab_type": "code",
        "colab": {}
      },
      "source": [
        "# Save model\n",
        "import pandas as pd\n",
        "from datetime import date\n",
        "\n",
        "epoch_info = pd.DataFrame({'loss_train': epoch_losses_train, \n",
        "                           'loss_test': epoch_losses_test, \n",
        "                           'correct_frames_train': epoch_correct_frames_train, \n",
        "                           'correct_frames_test': epoch_correct_frames_test, \n",
        "                           'trainig_duration': duration})\n",
        "\n",
        "suffix = ''\n",
        "root_path = '/content/gdrive/My Drive/Tesis/models/BLSTM/'\n",
        "date_of_training = str(date.today())\n",
        "filename = date_of_training + '_' + str(nr_epochs) + 'epochs' + suffix\n",
        "\n",
        "model_filepath = root_path + 'model_' + filename + '.pt'\n",
        "epoch_info_filepath = root_path + 'epoch_info_' + filename + '.csv'\n",
        "torch.save(model, model_filepath)\n",
        "epoch_info.to_csv(epoch_info_filepath)"
      ],
      "execution_count": null,
      "outputs": []
    },
    {
      "cell_type": "code",
      "metadata": {
        "id": "a20Dr3qRRdFd",
        "colab_type": "code",
        "colab": {}
      },
      "source": [
        "# Load model\n",
        "model = torch.load(model_filepath, map_location=device)\n",
        "epoch_info = pd.read_csv(epoch_info_filepath)"
      ],
      "execution_count": null,
      "outputs": []
    },
    {
      "cell_type": "markdown",
      "metadata": {
        "id": "BL7F_-XvtaOz",
        "colab_type": "text"
      },
      "source": [
        "### See Loss after training"
      ]
    },
    {
      "cell_type": "code",
      "metadata": {
        "id": "LBC3a4WCDlkm",
        "colab_type": "code",
        "colab": {
          "base_uri": "https://localhost:8080/",
          "height": 53
        },
        "outputId": "850ba470-dc93-4499-8cde-b2cb5c04fc03"
      },
      "source": [
        "# See the loss after training\n",
        "after_train_loss, after_train_perc_correct = evaluate_model(model, x_test, y_test)\n",
        "\n",
        "print('After train Loss:', after_train_loss)\n",
        "print(\"Correct frames percentage: \", after_train_perc_correct)"
      ],
      "execution_count": null,
      "outputs": [
        {
          "output_type": "stream",
          "text": [
            "After train Loss: 2.7172305583953857\n",
            "Correct frames percentage:  30.214610058875323\n"
          ],
          "name": "stdout"
        }
      ]
    },
    {
      "cell_type": "markdown",
      "metadata": {
        "id": "BueyIGk_9Qaf",
        "colab_type": "text"
      },
      "source": [
        "## Plots"
      ]
    },
    {
      "cell_type": "code",
      "metadata": {
        "id": "XED94U7wSPs0",
        "colab_type": "code",
        "colab": {
          "base_uri": "https://localhost:8080/",
          "height": 299
        },
        "outputId": "8d879920-03e2-4c85-904e-ecd83c145def"
      },
      "source": [
        "# Learning Curve\n",
        "\n",
        "import matplotlib\n",
        "import matplotlib.pyplot as plt\n",
        "plt.style.use('ggplot')\n",
        "\n",
        "fig, ax = plt.subplots()\n",
        "epochs = np.arange(1,nr_epochs+1)\n",
        "ax.plot(epochs, epoch_info['correct_frames_train'], '--s', label='BLSTM training set')\n",
        "ax.plot(epochs, epoch_info['correct_frames_test'], '--o', markerfacecolor='None', label='BLSTM test set')\n",
        "\n",
        "training_time = epoch_info['trainig_duration'][0]\n",
        "ax.set(xlabel='Training Epochs', ylabel='% Frames Correctly Classified',\n",
        "       title='Learning Curve for BLSTM architecture')\n",
        "\n",
        "learning_curve_filepath = root_path +'learning_curve_' + filename + '.png'\n",
        "plt.legend()\n",
        "fig.savefig(learning_curve_filepath)\n",
        "plt.show()\n",
        "\n"
      ],
      "execution_count": null,
      "outputs": [
        {
          "output_type": "display_data",
          "data": {
            "image/png": "[encoded data removed]",
            "text/plain": [
              "<Figure size 432x288 with 1 Axes>"
            ]
          },
          "metadata": {
            "tags": []
          }
        }
      ]
    }
  ]
}