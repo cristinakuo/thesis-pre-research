{
  "nbformat": 4,
  "nbformat_minor": 0,
  "metadata": {
    "colab": {
      "name": "BLSTM_experiment.ipynb",
      "provenance": [],
      "collapsed_sections": [],
      "machine_shape": "hm",
      "authorship_tag": "ABX9TyNSFkJZRYM6e54cdBcz2t03",
      "include_colab_link": true
    },
    "kernelspec": {
      "name": "python3",
      "display_name": "Python 3"
    },
    "accelerator": "GPU"
  },
  "cells": [
    {
      "cell_type": "markdown",
      "metadata": {
        "id": "view-in-github",
        "colab_type": "text"
      },
      "source": [
        "<a href=\"https://colab.research.google.com/github/cristinakuo/thesis-pre-research/blob/master/BLSTM_experiment.ipynb\" target=\"_parent\"><img src=\"https://colab.research.google.com/assets/colab-badge.svg\" alt=\"Open In Colab\"/></a>"
      ]
    },
    {
      "cell_type": "markdown",
      "metadata": {
        "id": "1ZRLOrw0EEEv",
        "colab_type": "text"
      },
      "source": [
        "# Sequence Labelling with a Bidirectional Long Short Term Memory RNN"
      ]
    },
    {
      "cell_type": "markdown",
      "metadata": {
        "id": "odvQ5YmAFPAJ",
        "colab_type": "text"
      },
      "source": [
        "## Google Drive Mounting"
      ]
    },
    {
      "cell_type": "code",
      "metadata": {
        "id": "Bo9SdUhjF40D",
        "colab_type": "code",
        "colab": {
          "base_uri": "https://localhost:8080/",
          "height": 35
        },
        "outputId": "1e7deb42-a5bd-43c7-a295-e579aa8fdd3c"
      },
      "source": [
        "from google.colab import drive\n",
        "drive.mount('/content/gdrive', force_remount=True)"
      ],
      "execution_count": 1,
      "outputs": [
        {
          "output_type": "stream",
          "text": [
            "Mounted at /content/gdrive\n"
          ],
          "name": "stdout"
        }
      ]
    },
    {
      "cell_type": "code",
      "metadata": {
        "id": "sOrRAr1bMo1M",
        "colab_type": "code",
        "colab": {
          "base_uri": "https://localhost:8080/",
          "height": 35
        },
        "outputId": "5174541d-509d-477c-f480-e05ee90b2dfd"
      },
      "source": [
        "import torch\n",
        "import torch.nn as nn\n",
        "import tqdm\n",
        "\n",
        "print(\"CUDA available: \", torch.cuda.is_available())\n",
        "\n",
        "if torch.cuda.is_available():  \n",
        "  dev = \"cuda:0\" \n",
        "else:  \n",
        "  dev = \"cpu\" \n",
        "\n",
        "device = torch.device(dev)  \n",
        "#device = torch.device('cpu')  "
      ],
      "execution_count": 2,
      "outputs": [
        {
          "output_type": "stream",
          "text": [
            "CUDA available:  True\n"
          ],
          "name": "stdout"
        }
      ]
    },
    {
      "cell_type": "markdown",
      "metadata": {
        "id": "DFvmcmNAdHCd",
        "colab_type": "text"
      },
      "source": [
        "## Data loading"
      ]
    },
    {
      "cell_type": "code",
      "metadata": {
        "id": "Ghi_V23TAKPt",
        "colab_type": "code",
        "colab": {}
      },
      "source": [
        "# Load files: out_lab_fea_xx.pkl\n",
        "# Saves the dictionary total_set in 3 files \n",
        "# that should contain train, dev and test data (in any order)\n",
        "\n",
        "import pickle\n",
        "import numpy as np\n",
        "\n",
        "out_folder = '/content/gdrive/My Drive/Tesis/data/'\n",
        "xi = 3 # Name of the 3 files (train, dev y test) \n",
        "xf = 6\n",
        "\n",
        "total_set = dict()\n",
        "for i in range(xi,xf):\n",
        "    idf = str(i)\n",
        "    out_file = 'out_lab_fea_' + idf + '.pkl'\n",
        "\n",
        "    with open(out_folder+out_file,'rb') as f:\n",
        "        total = pickle.load(f)\n",
        "    total_set[total[5]] = total\n",
        "    \n",
        "data_name_train = total_set['train'][0]\n",
        "data_end_index_train = total_set['train'][1]\n",
        "fea_dict_train = total_set['train'][2]\n",
        "lab_dict_train = total_set['train'][3]\n",
        "data_set_train = total_set['train'][4]\n",
        "todo_train = total_set['train'][5]\n",
        "\n",
        "data_name_dev = total_set['dev'][0]\n",
        "data_end_index_dev = total_set['dev'][1]\n",
        "fea_dict_dev = total_set['dev'][2]\n",
        "lab_dict_dev = total_set['dev'][3]\n",
        "data_set_dev = total_set['dev'][4]\n",
        "todo_dev = total_set['dev'][5]\n",
        "\n",
        "data_name_test = total_set['test'][0]\n",
        "data_end_index_test = total_set['test'][1]\n",
        "fea_dict_test = total_set['test'][2]\n",
        "lab_dict_test = total_set['test'][3]\n",
        "data_set_test = total_set['test'][4]\n",
        "todo_test = total_set['test'][5]"
      ],
      "execution_count": 3,
      "outputs": []
    },
    {
      "cell_type": "code",
      "metadata": {
        "id": "P_UotMLSnUEq",
        "colab_type": "code",
        "colab": {
          "base_uri": "https://localhost:8080/",
          "height": 89
        },
        "outputId": "7c1005fb-b4d7-43f3-ad2d-125b8b1966c9"
      },
      "source": [
        "# Check number of phrases in transcripts\n",
        "nr_phrases_train = len(data_name_train)\n",
        "nr_phrases_test = len(data_name_test)\n",
        "\n",
        "print('Nr of phrases (train): ', nr_phrases_train)\n",
        "print('Nr of phrases (test): ', nr_phrases_test)\n",
        "\n",
        "# Check number of phrases after splitting using the index array\n",
        "data_set_train_phrases = np.split(data_set_train, data_end_index_train)[:-1] # Last item is empty\n",
        "data_set_test_phrases = np.split(data_set_test, data_end_index_test)[:-1]\n",
        "\n",
        "print('Train: split data into {} phrases.'.format(len(data_set_train_phrases)))\n",
        "print('Test: split data into {} phrases.'.format(len(data_set_test_phrases)))"
      ],
      "execution_count": 4,
      "outputs": [
        {
          "output_type": "stream",
          "text": [
            "Nr of phrases (train):  3696\n",
            "Nr of phrases (test):  192\n",
            "Train: split data into 3696 phrases.\n",
            "Test: split data into 192 phrases.\n"
          ],
          "name": "stdout"
        }
      ]
    },
    {
      "cell_type": "code",
      "metadata": {
        "id": "HB-SVLw2QdDx",
        "colab_type": "code",
        "colab": {
          "base_uri": "https://localhost:8080/",
          "height": 161
        },
        "outputId": "b6e4f2a0-1635-4b58-e6ae-459efeee28bc"
      },
      "source": [
        "num_coef = 13\n",
        "\n",
        "# Divide data into input (x) y output (y)\n",
        "x_train = [data_set_train[:,:-1] for data_set_train in data_set_train_phrases]\n",
        "y_train = [data_set_train[:,-1].transpose() for data_set_train in data_set_train_phrases]\n",
        "x_test = [data_set_test[:,:-1] for data_set_test in data_set_test_phrases]\n",
        "y_test = [data_set_test[:,-1].transpose() for data_set_test in data_set_test_phrases]\n",
        "\n",
        "# Add batch dimension to inputs\n",
        "# x_train = [x.reshape((1, -1, num_coef )) for x in x_train]\n",
        "x_test = [x.reshape(1, -1, num_coef) for x in x_test]\n",
        "\n",
        "print('x_train shape: ', x_train[0].shape)\n",
        "print('x_test shape: ', x_test[0].shape)\n",
        "\n",
        "# Transform to tensor\n",
        "x_train = [torch.from_numpy(phrase).requires_grad_().type(torch.FloatTensor) for phrase in x_train]\n",
        "y_train = [torch.from_numpy(phrase).type(torch.LongTensor) for phrase in y_train]\n",
        "x_test = [torch.from_numpy(phrase).requires_grad_().type(torch.FloatTensor) for phrase in x_test]\n",
        "y_test = [torch.from_numpy(phrase).type(torch.LongTensor) for phrase in y_test]\n",
        "\n",
        "print('x_train shape: ', x_train[0].shape)\n",
        "print('x_test shape: ', x_test[0].shape)\n",
        "\n",
        "# Save in Device\n",
        "x_train = [phrase.to(device) for phrase in x_train]\n",
        "y_train = [phrase.to(device) for phrase in y_train]\n",
        "x_test = [phrase.to(device) for phrase in x_test]\n",
        "y_test = [phrase.to(device) for phrase in y_test]\n",
        "\n",
        "# Get size of tran and test set\n",
        "train_size = len(x_train)\n",
        "test_size = len(x_test)\n",
        "\n",
        "print(\"--Train data\")\n",
        "print(\"Number of samples: \", train_size)\n",
        "\n",
        "print(\"--Test data\")\n",
        "print(\"Number of samples: \", test_size)"
      ],
      "execution_count": 5,
      "outputs": [
        {
          "output_type": "stream",
          "text": [
            "x_train shape:  (90, 13)\n",
            "x_test shape:  (1, 129, 13)\n",
            "x_train shape:  torch.Size([90, 13])\n",
            "x_test shape:  torch.Size([1, 129, 13])\n",
            "--Train data\n",
            "Number of samples:  3696\n",
            "--Test data\n",
            "Number of samples:  192\n"
          ],
          "name": "stdout"
        }
      ]
    },
    {
      "cell_type": "markdown",
      "metadata": {
        "id": "a8pspdEXmIoN",
        "colab_type": "text"
      },
      "source": [
        "## Define BLSTM Class"
      ]
    },
    {
      "cell_type": "code",
      "metadata": {
        "id": "I6gS6g5eMGDF",
        "colab_type": "code",
        "colab": {}
      },
      "source": [
        "class BLSTMModel(nn.Module):\n",
        "  def __init__(self, input_size, hidden_size, nr_layers, output_size):\n",
        "    super(BLSTMModel, self).__init__()\n",
        "    self.input_size = input_size\n",
        "    self.hidden_size = hidden_size\n",
        "    self.output_size = output_size\n",
        "    self.nr_layers = nr_layers\n",
        "\n",
        "    # Hidden layer\n",
        "    # batch_first=True means input/output tensors to be of shape\n",
        "    # (batch_dim, seq_dim, feature_dim)\n",
        "    self.lstm = nn.LSTM(self.input_size, self.hidden_size, self.nr_layers, \n",
        "                        batch_first=True, bidirectional=True, bias=True)\n",
        "    \n",
        "    # Output Layer\n",
        "    # Input is hidden_size*2 because it has a bidirectional LSTM as previous layer\n",
        "    self.fc = torch.nn.Linear(self.hidden_size*2, self.output_size, bias=True)\n",
        "\n",
        "  def forward(self, x, hidden=None, batch_mode=False):\n",
        "\n",
        "    if hidden:  # Detach from their history\n",
        "      hidden[0].detach_()\n",
        "      hidden[1].detach_()\n",
        "\n",
        "\n",
        "    if isinstance(x, list):\n",
        "      batch_mode = True\n",
        "    \n",
        "    if batch_mode:\n",
        "      seq_lengths = [sample.shape[0] for sample in x]  # get the length of each seq in your batch\n",
        "      x_padded = torch.nn.utils.rnn.pad_sequence(x, batch_first=True)\n",
        "      x_input = torch.nn.utils.rnn.pack_padded_sequence(x_padded, batch_first=True, lengths=seq_lengths, enforce_sorted=False)\n",
        "      x_input.to(device)\n",
        "    else:\n",
        "      x_input = x\n",
        "\n",
        "    out_lstm, (hn, cn) = self.lstm(x_input, hidden)\n",
        "\n",
        "    if batch_mode:\n",
        "      # unpack\n",
        "      out_lstm, unpacked_len = torch.nn.utils.rnn.pad_packed_sequence(out_lstm, batch_first=True)\n",
        "\n",
        "    out = self.fc(out_lstm)\n",
        "    \n",
        "\n",
        "\n",
        "    hidden = (hn, cn)\n",
        "\n",
        "    return out, hidden\n",
        "\n",
        "  def init_hidden(self, x, batch_size): # Not used\n",
        "    h0 = torch.randn(self.nr_layers*2, batch_size, self.hidden_size).requires_grad_().to(device)\n",
        "    c0 = torch.randn(self.nr_layers*2, batch_size, self.hidden_size).requires_grad_().to(device)\n",
        "    return (h0, c0)\n",
        "    "
      ],
      "execution_count": 6,
      "outputs": []
    },
    {
      "cell_type": "markdown",
      "metadata": {
        "id": "4jQOdjojoj4D",
        "colab_type": "text"
      },
      "source": [
        "## Instantiate BLSTM model"
      ]
    },
    {
      "cell_type": "code",
      "metadata": {
        "id": "X3UbBXfIWW_A",
        "colab_type": "code",
        "colab": {
          "base_uri": "https://localhost:8080/",
          "height": 107
        },
        "outputId": "a65875e3-0a7f-4bb1-8537-c3148699c6c5"
      },
      "source": [
        "NR_PHONEMES = 61\n",
        "input_size = num_coef  # Number of coefficients\n",
        "hidden_size = 93  # Specified by Graves Is this ok\n",
        "output_size = NR_PHONEMES  # Number of phonemes\n",
        "layer_size = 2 \n",
        "\n",
        "print(\"Creating BLSTM model with parameters:\")\n",
        "print(\"Input size: \", input_size)\n",
        "print(\"Hidden size: \", hidden_size)\n",
        "print(\"Layer size: \", layer_size)\n",
        "print(\"Output size: \", output_size)\n",
        "\n",
        "model = BLSTMModel(input_size, hidden_size, layer_size, output_size)\n",
        "model = model.to(device)"
      ],
      "execution_count": 7,
      "outputs": [
        {
          "output_type": "stream",
          "text": [
            "Creating BLSTM model with parameters:\n",
            "Input size:  13\n",
            "Hidden size:  93\n",
            "Layer size:  2\n",
            "Output size:  61\n"
          ],
          "name": "stdout"
        }
      ]
    },
    {
      "cell_type": "code",
      "metadata": {
        "colab_type": "code",
        "id": "2BGkZTdgScE6",
        "colab": {}
      },
      "source": [
        "learning_rate = 10e-5 # Specified by Graves\n",
        "momentum = 0.9\n",
        "\n",
        "cost_function = nn.CrossEntropyLoss(ignore_index=0)\n",
        "optimizer = torch.optim.SGD(model.parameters(), lr=learning_rate, momentum=momentum)"
      ],
      "execution_count": 8,
      "outputs": []
    },
    {
      "cell_type": "markdown",
      "metadata": {
        "id": "9qdW1c2xFWQC",
        "colab_type": "text"
      },
      "source": [
        "## Testing pad sequences for forward()"
      ]
    },
    {
      "cell_type": "code",
      "metadata": {
        "id": "SdbsJOkl0s_c",
        "colab_type": "code",
        "colab": {
          "base_uri": "https://localhost:8080/",
          "height": 53
        },
        "outputId": "dbb063b4-6c31-4510-f3d9-139d2591e874"
      },
      "source": [
        "model.train()\n",
        "\n",
        "x_input = x_train[:32]\n",
        "seq_lengths = [x.shape[0] for x in x_input]  # get the length of each seq in your batch\n",
        "y_padded, _ = model(x_input, batch_mode=True)\n",
        "y = torch.nn.utils.rnn.pad_sequence(y_train[:32], batch_first=True)\n",
        "\n",
        "batch_loss = 0.0\n",
        "batch_nr_correct_frames = 0\n",
        "for i in range(y_padded.size(0)):\n",
        "  ce_loss = cost_function(y_padded[i], y[i])\n",
        "  #print(y_padded[i].shape)\n",
        "  batch_loss += ce_loss\n",
        "  \n",
        "  seq_len = seq_lengths[i]\n",
        "  #print(\"testing\")\n",
        "  #print(y_padded[i, :lenn].shape)\n",
        "  #print(y[i, :lenn].shape)\n",
        "  #print(y_train[i].shape)\n",
        "  y_prediction = torch.argmax(y_padded[i,:seq_len], dim=1)\n",
        "  \n",
        "  batch_nr_correct_frames += int((y_prediction == y_train[i]).sum())\n",
        "\n",
        "optimizer.zero_grad()\n",
        "batch_loss.backward()\n",
        "optimizer.step()\n",
        "\n",
        "print('Loss is: ', batch_loss.item())\n",
        "print('Correct frames in batch: ', batch_nr_correct_frames)\n"
      ],
      "execution_count": 40,
      "outputs": [
        {
          "output_type": "stream",
          "text": [
            "Loss is:  131.5528564453125\n",
            "Correct frames in batch:  23\n"
          ],
          "name": "stdout"
        }
      ]
    },
    {
      "cell_type": "markdown",
      "metadata": {
        "id": "zSl6nvoJo6pC",
        "colab_type": "text"
      },
      "source": [
        "## Evaluate model in test data"
      ]
    },
    {
      "cell_type": "code",
      "metadata": {
        "id": "Ar78LCNTNhb9",
        "colab_type": "code",
        "colab": {}
      },
      "source": [
        "def evaluate_model(model, input_data, labels):\n",
        "  \n",
        "  model.eval()\n",
        "  \n",
        "  total_loss = 0\n",
        "  nr_correct_frames = 0\n",
        "  nr_total_frames = 0\n",
        "  \n",
        "  hidden = None\n",
        "  for (x_test_phrase, y_test_phrase) in zip(input_data, labels):\n",
        "    #x_test_phrase = x_test_phrase.reshape(-1, x_test_phrase.size(0), input_size)\n",
        "    output_test, _ = model(x_test_phrase, hidden)\n",
        "    output_test = output_test[0] # Batch size is 1\n",
        "    # Accumulate loss\n",
        "    total_loss += cost_function(output_test, y_test_phrase)\n",
        "  \n",
        "    # Calculate number of correct frames\n",
        "    y_prediction_test = torch.argmax(output_test, dim=1)\n",
        "    nr_correct_frames += int((y_prediction_test == y_test_phrase).sum())\n",
        "    nr_total_frames += len(y_test_phrase)\n",
        "  \n",
        "  # Arrange return values\n",
        "  average_loss = total_loss/test_size\n",
        "  average_loss = average_loss.item()\n",
        "  \n",
        "  perc_correct = nr_correct_frames/nr_total_frames*100\n",
        "  \n",
        "  return average_loss, perc_correct"
      ],
      "execution_count": 9,
      "outputs": []
    },
    {
      "cell_type": "code",
      "metadata": {
        "id": "oGYKsN8gnzgE",
        "colab_type": "code",
        "colab": {
          "base_uri": "https://localhost:8080/",
          "height": 89
        },
        "outputId": "6d2a67a8-96a9-4788-98d6-de89ee72497f"
      },
      "source": [
        "print(x_test[0].shape)\n",
        "print(y_test[0].shape)\n",
        "average_loss, perc_correct = evaluate_model(model, x_test, y_test)\n",
        "\n",
        "\n",
        "print('Loss:', average_loss)\n",
        "print(\"Correct frames percentage: \", perc_correct)"
      ],
      "execution_count": 10,
      "outputs": [
        {
          "output_type": "stream",
          "text": [
            "torch.Size([1, 129, 13])\n",
            "torch.Size([129])\n",
            "Loss: 4.107912540435791\n",
            "Correct frames percentage:  1.7196429496365615\n"
          ],
          "name": "stdout"
        }
      ]
    },
    {
      "cell_type": "code",
      "metadata": {
        "id": "za6q2eGkDykV",
        "colab_type": "code",
        "colab": {}
      },
      "source": [
        "def train_model(model, x_train, y_train, batch_size=1):\n",
        "  model.train()\n",
        "\n",
        "  train_size = len(x_train)\n",
        "  # x_train_padded = torch.nn.utils.rnn.pad_sequence(x_train, batch_first=True)\n",
        "  hidden = None\n",
        "  \n",
        "  nr_correct_frames = 0\n",
        "  nr_total_frames = 0\n",
        "  epoch_total_loss = 0\n",
        "\n",
        "  # Randomize the order of phrases for each epoch\n",
        "  random_idxs = np.random.permutation(train_size)\n",
        "\n",
        "  #for i in tqdm.notebook.tqdm(random_idxs):\n",
        "  remaining_samples = True\n",
        "  batch_init = 0\n",
        "  \n",
        "  if batch_size > 1:\n",
        "    batch_mode = True\n",
        "  else:\n",
        "    batch_mode = False\n",
        "  \n",
        "  while remaining_samples:\n",
        "    batch_end = min(batch_init+batch_size-1, train_size-1) # What to do with last batch if it is smaller?\n",
        "    batch_idxs = random_idxs[batch_init:batch_end]\n",
        "    batch_init += batch_size\n",
        "    \n",
        "    if batch_end >= train_size - 1:\n",
        "      remaining_samples = False\n",
        "    \n",
        "    x_train_batch = [x_train[i] for i in batch_idxs]\n",
        "    y_train_batch = [y_train[i] for i in batch_idxs]\n",
        "\n",
        "    seq_lengths = [x.shape[0] for x in x_train_batch]  # get the length of each seq in your batch\n",
        "\n",
        "    # At each batch, we detach the hidden state from how it was previously produced.\n",
        "    # If we didn't, the model would try backpropagating all the way to the start of the dataset.\n",
        "    model.zero_grad()\n",
        "\n",
        "    # Forward pass\n",
        "    # y_pred, hidden = model(x_train[i], hidden)\n",
        "    y_padded, hidden = model(x_train_batch, hidden) # TODO: hacer que se vaya corriendo\n",
        "\n",
        "    # Compute loss\n",
        "    batch_loss = 0.0\n",
        "    for i in range(y_padded.size(0)):\n",
        "      #print(\"y_padded: \", y_padded.shape)\n",
        "      #print(\"y_train_batch: \", y_train_batch[i].shape)\n",
        "      seq_len = seq_lengths[i]\n",
        "      y_unpadded = y_padded[i,:seq_len]\n",
        "      ce_loss = cost_function(y_unpadded, y_train_batch[i])\n",
        "      batch_loss += ce_loss\n",
        "\n",
        "      y_pred_labels = torch.argmax(y_unpadded, dim=1)\n",
        "      nr_correct_frames += int((y_pred_labels == y_train_batch[i]).sum())\n",
        "      nr_total_frames += len(y_train_batch[i])\n",
        "\n",
        "    epoch_total_loss += batch_loss.item()\n",
        "\n",
        "    # Backward pass\n",
        "    optimizer.zero_grad() # Clear grads before doing backward\n",
        "    batch_loss.backward()\n",
        "    optimizer.step()\n",
        "  \n",
        "    # Epoch training results\n",
        "    epoch_loss_train = epoch_total_loss/train_size\n",
        "    perc_correct_train = nr_correct_frames/nr_total_frames*100\n",
        "\n",
        "  return epoch_loss_train, perc_correct_train"
      ],
      "execution_count": 12,
      "outputs": []
    },
    {
      "cell_type": "markdown",
      "metadata": {
        "id": "En0ymTu5tRaB",
        "colab_type": "text"
      },
      "source": [
        "### Training time"
      ]
    },
    {
      "cell_type": "code",
      "metadata": {
        "id": "TpTIShCEyVy7",
        "colab_type": "code",
        "colab": {
          "base_uri": "https://localhost:8080/",
          "height": 1000
        },
        "outputId": "0461b72e-8c36-4abb-aaff-932f4aa5f921"
      },
      "source": [
        "import time\n",
        "\n",
        "nr_epochs = 30\n",
        "epoch_losses_train = []\n",
        "epoch_losses_test = []\n",
        "epoch_correct_frames_train = []\n",
        "epoch_correct_frames_test = []\n",
        "BATCH_SIZE = 64\n",
        "\n",
        "start_time = time.time()\n",
        "# TODO: initial weights? Graves: from flat distribution between -0.1 and 0.1\n",
        "for epoch in range(nr_epochs):\n",
        "  print(f'EPOCH #{epoch+1}')\n",
        "  #========= Train ==============#\n",
        "  epoch_loss_train, perc_correct_train = train_model(model, x_train, y_train, batch_size=BATCH_SIZE)\n",
        "  \n",
        "  print('Train loss:', epoch_loss_train)\n",
        "  print(\"Correct frames percentage: \", perc_correct_train)\n",
        "\n",
        "  # =====See test results========#\n",
        "  epoch_loss_test, perc_correct_test = evaluate_model(model, x_test, y_test)\n",
        "  print('Test loss:', epoch_loss_test)\n",
        "  print(\"Correct frames percentage: \", perc_correct_test)\n",
        "\n",
        "  # Append epoch results \n",
        "  epoch_losses_train.append(epoch_loss_train)\n",
        "  epoch_losses_test.append(epoch_loss_test)\n",
        "  epoch_correct_frames_train.append(perc_correct_train)\n",
        "  epoch_correct_frames_test.append(perc_correct_test)\n",
        "\n",
        "  print()\n",
        "\n",
        "\n",
        "print('Done training')\n",
        "print()\n",
        "end_time = time.time()\n",
        "\n",
        "duration = end_time - start_time\n",
        "\n",
        "print(f'Total training time: {duration} seconds')"
      ],
      "execution_count": 13,
      "outputs": [
        {
          "output_type": "stream",
          "text": [
            "EPOCH #1\n",
            "Train loss: 3.986890549267525\n",
            "Correct frames percentage:  9.961496398195935\n",
            "Test loss: 3.9723870754241943\n",
            "Correct frames percentage:  12.773010583746267\n",
            "\n",
            "EPOCH #2\n",
            "Train loss: 3.8265894935244607\n",
            "Correct frames percentage:  12.613995754267396\n",
            "Test loss: 3.8030030727386475\n",
            "Correct frames percentage:  12.773010583746267\n",
            "\n",
            "EPOCH #3\n",
            "Train loss: 3.6616452039578262\n",
            "Correct frames percentage:  12.615342625211706\n",
            "Test loss: 3.6636712551116943\n",
            "Correct frames percentage:  12.773010583746267\n",
            "\n",
            "EPOCH #4\n",
            "Train loss: 3.539853203348267\n",
            "Correct frames percentage:  12.75234777832781\n",
            "Test loss: 3.5557079315185547\n",
            "Correct frames percentage:  13.638011706003212\n",
            "\n",
            "EPOCH #5\n",
            "Train loss: 3.43011508049903\n",
            "Correct frames percentage:  14.793132060327668\n",
            "Test loss: 3.450294256210327\n",
            "Correct frames percentage:  15.899791087553309\n",
            "\n",
            "EPOCH #6\n",
            "Train loss: 3.3209218772458824\n",
            "Correct frames percentage:  16.745739203302808\n",
            "Test loss: 3.346919059753418\n",
            "Correct frames percentage:  17.522747285001465\n",
            "\n",
            "EPOCH #7\n",
            "Train loss: 3.2158521429284828\n",
            "Correct frames percentage:  18.896160664965198\n",
            "Test loss: 3.251553535461426\n",
            "Correct frames percentage:  19.667121324608505\n",
            "\n",
            "EPOCH #8\n",
            "Train loss: 3.119392845021698\n",
            "Correct frames percentage:  21.048976185659374\n",
            "Test loss: 3.1657845973968506\n",
            "Correct frames percentage:  21.595676720937863\n",
            "\n",
            "EPOCH #9\n",
            "Train loss: 3.0320236940920613\n",
            "Correct frames percentage:  22.76097731667196\n",
            "Test loss: 3.08693265914917\n",
            "Correct frames percentage:  22.91821336694349\n",
            "\n",
            "EPOCH #10\n",
            "Train loss: 2.9482738115054703\n",
            "Correct frames percentage:  24.105139505507356\n",
            "Test loss: 3.0103955268859863\n",
            "Correct frames percentage:  23.809112726393757\n",
            "\n",
            "EPOCH #11\n",
            "Train loss: 2.8681434779972226\n",
            "Correct frames percentage:  25.151807707229928\n",
            "Test loss: 2.9378232955932617\n",
            "Correct frames percentage:  24.594692587924516\n",
            "\n",
            "EPOCH #12\n",
            "Train loss: 2.7924776696539544\n",
            "Correct frames percentage:  26.071644275761578\n",
            "Test loss: 2.872206211090088\n",
            "Correct frames percentage:  25.35092111396951\n",
            "\n",
            "EPOCH #13\n",
            "Train loss: 2.723535405608999\n",
            "Correct frames percentage:  27.195525779622965\n",
            "Test loss: 2.8133559226989746\n",
            "Correct frames percentage:  26.404116093164593\n",
            "\n",
            "EPOCH #14\n",
            "Train loss: 2.6622093023159805\n",
            "Correct frames percentage:  28.361474735976728\n",
            "Test loss: 2.7614991664886475\n",
            "Correct frames percentage:  27.433139384312575\n",
            "\n",
            "EPOCH #15\n",
            "Train loss: 2.606387417037766\n",
            "Correct frames percentage:  29.518022270396326\n",
            "Test loss: 2.714721202850342\n",
            "Correct frames percentage:  28.684887515323126\n",
            "\n",
            "EPOCH #16\n",
            "Train loss: 2.555306775229318\n",
            "Correct frames percentage:  30.70135152571093\n",
            "Test loss: 2.6715025901794434\n",
            "Correct frames percentage:  29.744988691103092\n",
            "\n",
            "EPOCH #17\n",
            "Train loss: 2.506935674906809\n",
            "Correct frames percentage:  31.72159663964186\n",
            "Test loss: 2.630183696746826\n",
            "Correct frames percentage:  30.748113745057754\n",
            "\n",
            "EPOCH #18\n",
            "Train loss: 2.4601054005808645\n",
            "Correct frames percentage:  32.67404570012714\n",
            "Test loss: 2.5909006595611572\n",
            "Correct frames percentage:  31.637286555361797\n",
            "\n",
            "EPOCH #19\n",
            "Train loss: 2.4161771448143634\n",
            "Correct frames percentage:  33.531131564699514\n",
            "Test loss: 2.553229331970215\n",
            "Correct frames percentage:  32.4746628912792\n",
            "\n",
            "EPOCH #20\n",
            "Train loss: 2.3740817478724887\n",
            "Correct frames percentage:  34.40998520596563\n",
            "Test loss: 2.517526388168335\n",
            "Correct frames percentage:  33.20844627842332\n",
            "\n",
            "EPOCH #21\n",
            "Train loss: 2.335843358721052\n",
            "Correct frames percentage:  35.06096486830017\n",
            "Test loss: 2.481435537338257\n",
            "Correct frames percentage:  33.93014382154388\n",
            "\n",
            "EPOCH #22\n",
            "Train loss: 2.296518040941907\n",
            "Correct frames percentage:  35.80088496772221\n",
            "Test loss: 2.4512245655059814\n",
            "Correct frames percentage:  34.64666171722578\n",
            "\n",
            "EPOCH #23\n",
            "Train loss: 2.260483778916396\n",
            "Correct frames percentage:  36.46391487403035\n",
            "Test loss: 2.423459529876709\n",
            "Correct frames percentage:  35.25613356584195\n",
            "\n",
            "EPOCH #24\n",
            "Train loss: 2.225703414900478\n",
            "Correct frames percentage:  37.147982354701604\n",
            "Test loss: 2.391768455505371\n",
            "Correct frames percentage:  35.90013639738255\n",
            "\n",
            "EPOCH #25\n",
            "Train loss: 2.194163177952622\n",
            "Correct frames percentage:  37.72067698802262\n",
            "Test loss: 2.3661890029907227\n",
            "Correct frames percentage:  36.468171066489404\n",
            "\n",
            "EPOCH #26\n",
            "Train loss: 2.163808665750347\n",
            "Correct frames percentage:  38.345550722424115\n",
            "Test loss: 2.3405208587646484\n",
            "Correct frames percentage:  37.046565030473595\n",
            "\n",
            "EPOCH #27\n",
            "Train loss: 2.1349249381523627\n",
            "Correct frames percentage:  38.94623562641974\n",
            "Test loss: 2.3176586627960205\n",
            "Correct frames percentage:  37.645677584212436\n",
            "\n",
            "EPOCH #28\n",
            "Train loss: 2.108897832564977\n",
            "Correct frames percentage:  39.464273616988606\n",
            "Test loss: 2.2963266372680664\n",
            "Correct frames percentage:  38.06695557589047\n",
            "\n",
            "EPOCH #29\n",
            "Train loss: 2.082110268729074\n",
            "Correct frames percentage:  40.05002671285444\n",
            "Test loss: 2.279541015625\n",
            "Correct frames percentage:  38.483053920129834\n",
            "\n",
            "EPOCH #30\n",
            "Train loss: 2.0584932942411083\n",
            "Correct frames percentage:  40.48114139368521\n",
            "Test loss: 2.252612829208374\n",
            "Correct frames percentage:  39.14086914484021\n",
            "\n",
            "Done training\n",
            "\n",
            "Total training time: 328.23168778419495 seconds\n"
          ],
          "name": "stdout"
        }
      ]
    },
    {
      "cell_type": "code",
      "metadata": {
        "id": "Vqg0VDYjzNhW",
        "colab_type": "code",
        "colab": {}
      },
      "source": [
        "# Save model\n",
        "import pandas as pd\n",
        "from datetime import date\n",
        "\n",
        "epoch_info = pd.DataFrame({'loss_train': epoch_losses_train, \n",
        "                           'loss_test': epoch_losses_test, \n",
        "                           'correct_frames_train': epoch_correct_frames_train, \n",
        "                           'correct_frames_test': epoch_correct_frames_test, \n",
        "                           'trainig_duration': duration})\n",
        "\n",
        "suffix = ''\n",
        "root_path = '/content/gdrive/My Drive/Tesis/models/BLSTM/'\n",
        "date_of_training = str(date.today())\n",
        "filename = date_of_training + '_' + str(nr_epochs) + '_2ndtry_' + 'epochs' + suffix\n",
        "\n",
        "model_filepath = root_path + 'model_' + filename + '.pt'\n",
        "epoch_info_filepath = root_path + 'epoch_info_' + filename + '.csv'\n",
        "torch.save(model, model_filepath)\n",
        "epoch_info.to_csv(epoch_info_filepath)"
      ],
      "execution_count": 14,
      "outputs": []
    },
    {
      "cell_type": "code",
      "metadata": {
        "id": "a20Dr3qRRdFd",
        "colab_type": "code",
        "colab": {}
      },
      "source": [
        "# Load model\n",
        "model = torch.load(model_filepath, map_location=device)\n",
        "epoch_info = pd.read_csv(epoch_info_filepath)"
      ],
      "execution_count": 15,
      "outputs": []
    },
    {
      "cell_type": "markdown",
      "metadata": {
        "id": "BL7F_-XvtaOz",
        "colab_type": "text"
      },
      "source": [
        "### See Loss after training"
      ]
    },
    {
      "cell_type": "code",
      "metadata": {
        "id": "LBC3a4WCDlkm",
        "colab_type": "code",
        "colab": {
          "base_uri": "https://localhost:8080/",
          "height": 53
        },
        "outputId": "7a19faca-1eca-4e44-a4de-4b617bbb3a6c"
      },
      "source": [
        "# See the loss after training\n",
        "after_train_loss, after_train_perc_correct = evaluate_model(model, x_test, y_test)\n",
        "\n",
        "print('After train Loss:', after_train_loss)\n",
        "print(\"Correct frames percentage: \", after_train_perc_correct)"
      ],
      "execution_count": 16,
      "outputs": [
        {
          "output_type": "stream",
          "text": [
            "After train Loss: 2.252612829208374\n",
            "Correct frames percentage:  39.14086914484021\n"
          ],
          "name": "stdout"
        }
      ]
    },
    {
      "cell_type": "markdown",
      "metadata": {
        "id": "BueyIGk_9Qaf",
        "colab_type": "text"
      },
      "source": [
        "## Plots"
      ]
    },
    {
      "cell_type": "code",
      "metadata": {
        "id": "XED94U7wSPs0",
        "colab_type": "code",
        "colab": {
          "base_uri": "https://localhost:8080/",
          "height": 299
        },
        "outputId": "0557a573-0876-47fb-eb43-e97319410db7"
      },
      "source": [
        "# Learning Curve\n",
        "\n",
        "import matplotlib\n",
        "import matplotlib.pyplot as plt\n",
        "plt.style.use('ggplot')\n",
        "\n",
        "fig, ax = plt.subplots()\n",
        "epochs = np.arange(1,nr_epochs+1)\n",
        "ax.plot(epochs, epoch_info['correct_frames_train'], '--s', label='BLSTM training set')\n",
        "ax.plot(epochs, epoch_info['correct_frames_test'], '--o', markerfacecolor='None', label='BLSTM test set')\n",
        "\n",
        "training_time = epoch_info['trainig_duration'][0]\n",
        "ax.set(xlabel='Training Epochs', ylabel='% Frames Correctly Classified',\n",
        "       title='Learning Curve for BLSTM architecture')\n",
        "\n",
        "learning_curve_filepath = root_path +'learning_curve_' + filename + '.png'\n",
        "plt.legend()\n",
        "fig.savefig(learning_curve_filepath)\n",
        "plt.show()\n",
        "\n"
      ],
      "execution_count": 17,
      "outputs": [
        {
          "output_type": "display_data",
          "data": {
            "image/png": "[encoded data removed]",
            "text/plain": [
              "<Figure size 432x288 with 1 Axes>"
            ]
          },
          "metadata": {
            "tags": []
          }
        }
      ]
    }
  ]
}