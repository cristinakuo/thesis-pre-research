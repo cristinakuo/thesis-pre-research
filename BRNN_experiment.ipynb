{
  "nbformat": 4,
  "nbformat_minor": 0,
  "metadata": {
    "colab": {
      "name": "BRNN_experiment.ipynb",
      "provenance": [],
      "collapsed_sections": [],
      "machine_shape": "hm",
      "authorship_tag": "ABX9TyO5a5FVxj0X44h7IImiUju0",
      "include_colab_link": true
    },
    "kernelspec": {
      "name": "python3",
      "display_name": "Python 3"
    },
    "accelerator": "GPU",
    "widgets": {
      "application/vnd.jupyter.widget-state+json": {
        "8faf0009460147b4a0ea4b65e413b437": {
          "model_module": "@jupyter-widgets/controls",
          "model_name": "HBoxModel",
          "state": {
            "_view_name": "HBoxView",
            "_dom_classes": [],
            "_model_name": "HBoxModel",
            "_view_module": "@jupyter-widgets/controls",
            "_model_module_version": "1.5.0",
            "_view_count": null,
            "_view_module_version": "1.5.0",
            "box_style": "",
            "layout": "IPY_MODEL_7390044005684d118786f897e69179a0",
            "_model_module": "@jupyter-widgets/controls",
            "children": [
              "IPY_MODEL_ab6ae686679e4fee8c697f7cc9bf9e2e",
              "IPY_MODEL_b8fd2356b6d04cd6aaa2b78b424b6d3b"
            ]
          }
        },
        "7390044005684d118786f897e69179a0": {
          "model_module": "@jupyter-widgets/base",
          "model_name": "LayoutModel",
          "state": {
            "_view_name": "LayoutView",
            "grid_template_rows": null,
            "right": null,
            "justify_content": null,
            "_view_module": "@jupyter-widgets/base",
            "overflow": null,
            "_model_module_version": "1.2.0",
            "_view_count": null,
            "flex_flow": null,
            "width": null,
            "min_width": null,
            "border": null,
            "align_items": null,
            "bottom": null,
            "_model_module": "@jupyter-widgets/base",
            "top": null,
            "grid_column": null,
            "overflow_y": null,
            "overflow_x": null,
            "grid_auto_flow": null,
            "grid_area": null,
            "grid_template_columns": null,
            "flex": null,
            "_model_name": "LayoutModel",
            "justify_items": null,
            "grid_row": null,
            "max_height": null,
            "align_content": null,
            "visibility": null,
            "align_self": null,
            "height": null,
            "min_height": null,
            "padding": null,
            "grid_auto_rows": null,
            "grid_gap": null,
            "max_width": null,
            "order": null,
            "_view_module_version": "1.2.0",
            "grid_template_areas": null,
            "object_position": null,
            "object_fit": null,
            "grid_auto_columns": null,
            "margin": null,
            "display": null,
            "left": null
          }
        },
        "ab6ae686679e4fee8c697f7cc9bf9e2e": {
          "model_module": "@jupyter-widgets/controls",
          "model_name": "FloatProgressModel",
          "state": {
            "_view_name": "ProgressView",
            "style": "IPY_MODEL_a23afa755f344a5f961dd69c9225eb5f",
            "_dom_classes": [],
            "description": "  0%",
            "_model_name": "FloatProgressModel",
            "bar_style": "danger",
            "max": 3696,
            "_view_module": "@jupyter-widgets/controls",
            "_model_module_version": "1.5.0",
            "value": 0,
            "_view_count": null,
            "_view_module_version": "1.5.0",
            "orientation": "horizontal",
            "min": 0,
            "description_tooltip": null,
            "_model_module": "@jupyter-widgets/controls",
            "layout": "IPY_MODEL_772de7aaaf894f4a8b1139bebbd1f295"
          }
        },
        "b8fd2356b6d04cd6aaa2b78b424b6d3b": {
          "model_module": "@jupyter-widgets/controls",
          "model_name": "HTMLModel",
          "state": {
            "_view_name": "HTMLView",
            "style": "IPY_MODEL_5fa4c1efe358440ead34ba469a16af3d",
            "_dom_classes": [],
            "description": "",
            "_model_name": "HTMLModel",
            "placeholder": "​",
            "_view_module": "@jupyter-widgets/controls",
            "_model_module_version": "1.5.0",
            "value": " 0/3696 [00:00&lt;?, ?it/s]",
            "_view_count": null,
            "_view_module_version": "1.5.0",
            "description_tooltip": null,
            "_model_module": "@jupyter-widgets/controls",
            "layout": "IPY_MODEL_e3c40430fb1a4cb48a5df726946cf7be"
          }
        },
        "a23afa755f344a5f961dd69c9225eb5f": {
          "model_module": "@jupyter-widgets/controls",
          "model_name": "ProgressStyleModel",
          "state": {
            "_view_name": "StyleView",
            "_model_name": "ProgressStyleModel",
            "description_width": "initial",
            "_view_module": "@jupyter-widgets/base",
            "_model_module_version": "1.5.0",
            "_view_count": null,
            "_view_module_version": "1.2.0",
            "bar_color": null,
            "_model_module": "@jupyter-widgets/controls"
          }
        },
        "772de7aaaf894f4a8b1139bebbd1f295": {
          "model_module": "@jupyter-widgets/base",
          "model_name": "LayoutModel",
          "state": {
            "_view_name": "LayoutView",
            "grid_template_rows": null,
            "right": null,
            "justify_content": null,
            "_view_module": "@jupyter-widgets/base",
            "overflow": null,
            "_model_module_version": "1.2.0",
            "_view_count": null,
            "flex_flow": null,
            "width": null,
            "min_width": null,
            "border": null,
            "align_items": null,
            "bottom": null,
            "_model_module": "@jupyter-widgets/base",
            "top": null,
            "grid_column": null,
            "overflow_y": null,
            "overflow_x": null,
            "grid_auto_flow": null,
            "grid_area": null,
            "grid_template_columns": null,
            "flex": null,
            "_model_name": "LayoutModel",
            "justify_items": null,
            "grid_row": null,
            "max_height": null,
            "align_content": null,
            "visibility": null,
            "align_self": null,
            "height": null,
            "min_height": null,
            "padding": null,
            "grid_auto_rows": null,
            "grid_gap": null,
            "max_width": null,
            "order": null,
            "_view_module_version": "1.2.0",
            "grid_template_areas": null,
            "object_position": null,
            "object_fit": null,
            "grid_auto_columns": null,
            "margin": null,
            "display": null,
            "left": null
          }
        },
        "5fa4c1efe358440ead34ba469a16af3d": {
          "model_module": "@jupyter-widgets/controls",
          "model_name": "DescriptionStyleModel",
          "state": {
            "_view_name": "StyleView",
            "_model_name": "DescriptionStyleModel",
            "description_width": "",
            "_view_module": "@jupyter-widgets/base",
            "_model_module_version": "1.5.0",
            "_view_count": null,
            "_view_module_version": "1.2.0",
            "_model_module": "@jupyter-widgets/controls"
          }
        },
        "e3c40430fb1a4cb48a5df726946cf7be": {
          "model_module": "@jupyter-widgets/base",
          "model_name": "LayoutModel",
          "state": {
            "_view_name": "LayoutView",
            "grid_template_rows": null,
            "right": null,
            "justify_content": null,
            "_view_module": "@jupyter-widgets/base",
            "overflow": null,
            "_model_module_version": "1.2.0",
            "_view_count": null,
            "flex_flow": null,
            "width": null,
            "min_width": null,
            "border": null,
            "align_items": null,
            "bottom": null,
            "_model_module": "@jupyter-widgets/base",
            "top": null,
            "grid_column": null,
            "overflow_y": null,
            "overflow_x": null,
            "grid_auto_flow": null,
            "grid_area": null,
            "grid_template_columns": null,
            "flex": null,
            "_model_name": "LayoutModel",
            "justify_items": null,
            "grid_row": null,
            "max_height": null,
            "align_content": null,
            "visibility": null,
            "align_self": null,
            "height": null,
            "min_height": null,
            "padding": null,
            "grid_auto_rows": null,
            "grid_gap": null,
            "max_width": null,
            "order": null,
            "_view_module_version": "1.2.0",
            "grid_template_areas": null,
            "object_position": null,
            "object_fit": null,
            "grid_auto_columns": null,
            "margin": null,
            "display": null,
            "left": null
          }
        }
      }
    }
  },
  "cells": [
    {
      "cell_type": "markdown",
      "metadata": {
        "id": "view-in-github",
        "colab_type": "text"
      },
      "source": [
        "<a href=\"https://colab.research.google.com/github/cristinakuo/thesis-pre-research/blob/master/BRNN_experiment.ipynb\" target=\"_parent\"><img src=\"https://colab.research.google.com/assets/colab-badge.svg\" alt=\"Open In Colab\"/></a>"
      ]
    },
    {
      "cell_type": "markdown",
      "metadata": {
        "id": "odvQ5YmAFPAJ",
        "colab_type": "text"
      },
      "source": [
        "## Montaje de Google Drive"
      ]
    },
    {
      "cell_type": "code",
      "metadata": {
        "id": "Bo9SdUhjF40D",
        "colab_type": "code",
        "colab": {
          "base_uri": "https://localhost:8080/",
          "height": 122
        },
        "outputId": "efde659e-6968-42f0-8ecf-940425c7d497"
      },
      "source": [
        "from google.colab import drive\n",
        "drive.mount('/content/gdrive')"
      ],
      "execution_count": 1,
      "outputs": [
        {
          "output_type": "stream",
          "text": [
            "Go to this URL in a browser: https://accounts.google.com/o/oauth2/auth?client_id=947318989803-6bn6qk8qdgf4n4g3pfee6491hc0brc4i.apps.googleusercontent.com&redirect_uri=urn%3aietf%3awg%3aoauth%3a2.0%3aoob&scope=email%20https%3a%2f%2fwww.googleapis.com%2fauth%2fdocs.test%20https%3a%2f%2fwww.googleapis.com%2fauth%2fdrive%20https%3a%2f%2fwww.googleapis.com%2fauth%2fdrive.photos.readonly%20https%3a%2f%2fwww.googleapis.com%2fauth%2fpeopleapi.readonly&response_type=code\n",
            "\n",
            "Enter your authorization code:\n",
            "··········\n",
            "Mounted at /content/gdrive\n"
          ],
          "name": "stdout"
        }
      ]
    },
    {
      "cell_type": "code",
      "metadata": {
        "id": "sOrRAr1bMo1M",
        "colab_type": "code",
        "colab": {
          "base_uri": "https://localhost:8080/",
          "height": 34
        },
        "outputId": "27945a37-76d3-44d2-b6f3-fb6e2b99fbe3"
      },
      "source": [
        "import torch\n",
        "import torch.nn as nn\n",
        "import tqdm\n",
        "\n",
        "print(torch.cuda.is_available())\n",
        "\n",
        "if torch.cuda.is_available():  \n",
        "  dev = \"cuda:0\" \n",
        "else:  \n",
        "  dev = \"cpu\" \n",
        "\n",
        "device = torch.device(dev)  "
      ],
      "execution_count": 2,
      "outputs": [
        {
          "output_type": "stream",
          "text": [
            "True\n"
          ],
          "name": "stdout"
        }
      ]
    },
    {
      "cell_type": "markdown",
      "metadata": {
        "id": "DFvmcmNAdHCd",
        "colab_type": "text"
      },
      "source": [
        "## Carga de datos: Coeficientes cepstrum con 10 ventanas de contexto"
      ]
    },
    {
      "cell_type": "markdown",
      "metadata": {
        "id": "y2sNVN6e8HYI",
        "colab_type": "text"
      },
      "source": [
        "# Lectura de los archivos out_lab_fea_xx.pkl\n",
        "\n",
        " - Cada archivo contiene los datos de train, dev y test.\n",
        " - Se asume que dichos archivos se encuentran en un directorio llamado data en el directorio de ejecución\n",
        " - Los datos que contiene cada archivo (supongamos que sea el archivo con datos de train) son:\n",
        "     - `data_name_train` Contiene el nombre del archivo de TIMIT que corresponde a cada frase\n",
        "     - `data_set_train` Es un array de numpy. Cada fila contiene los coeficientes de un frame de una frase y de los cw_l y cw_r anteriores y posteriores al frame actual. Además la última columna contiene la etiqueta con el número de fonema de los 61 fonemas posibles al que corresponde (0-60). Para distinguir a que frase corresponde cada frame se usa `data_end_index_train`.\n",
        "     - `data_end_index_train` Es un vector de numpy que indica la fila de `data_set_train` que corresponde al primer frame de la siguiente frase (eg. si fuera `data_end_index_train = [308,650...]` significaría que la primera frase se encuentra entre las filas 0 y 307 de la `matriz data_set_train` y la segunda entre la 308 y la 649. \n",
        "     - `fea_dict_train`. Es un diccionario que se usa para pasar información al kaldi. De acá el ancho de las ventanas de contexto `cw_l = fea_dict_train['mfcc'][3]` y `cw_r = fea_dict_train['mfcc'][4]`. También contiene el tamaño de las features y si hubiera mas features además de mfcc serían otras keys del diccionario.\n",
        "     - `lab_dict_train`. No se usa de momento\n",
        "     - `todo_train`. Vale `train`, `test`, o `dev` \n"
      ]
    },
    {
      "cell_type": "code",
      "metadata": {
        "id": "Ghi_V23TAKPt",
        "colab_type": "code",
        "colab": {}
      },
      "source": [
        "# Load files: out_lab_fea_xx.pkl\n",
        "# Saves the dictionary total_set in 3 files \n",
        "# that should contain train, dev and test data (in any order)\n",
        "\n",
        "import pickle\n",
        "import numpy as np\n",
        "\n",
        "# Directorio de salida\n",
        "tipo = ''\n",
        "out_folder = '/content/gdrive/My Drive/Tesis/data/'\n",
        "xi = 3 # Esto indica el nombre de los tres archivos (train, dev y test) \n",
        "xf = 6\n",
        "\n",
        "total_set = dict()\n",
        "for i in range(xi,xf):\n",
        "    idf = str(i)\n",
        "    out_file = 'out_lab_fea_' + idf + '.pkl'\n",
        "\n",
        "    with open(out_folder+out_file,'rb') as f:\n",
        "        total = pickle.load(f)\n",
        "    total_set[total[5]] = total\n",
        "    \n",
        "data_name_train = total_set['train'][0]\n",
        "data_end_index_train = total_set['train'][1]\n",
        "fea_dict_train = total_set['train'][2]\n",
        "lab_dict_train = total_set['train'][3]\n",
        "data_set_train = total_set['train'][4]\n",
        "todo_train = total_set['train'][5]\n",
        "\n",
        "data_name_dev = total_set['dev'][0]\n",
        "data_end_index_dev = total_set['dev'][1]\n",
        "fea_dict_dev = total_set['dev'][2]\n",
        "lab_dict_dev = total_set['dev'][3]\n",
        "data_set_dev = total_set['dev'][4]\n",
        "todo_dev = total_set['dev'][5]\n",
        "\n",
        "data_name_test = total_set['test'][0]\n",
        "data_end_index_test = total_set['test'][1]\n",
        "fea_dict_test = total_set['test'][2]\n",
        "lab_dict_test = total_set['test'][3]\n",
        "data_set_test = total_set['test'][4]\n",
        "todo_test = total_set['test'][5]"
      ],
      "execution_count": 3,
      "outputs": []
    },
    {
      "cell_type": "markdown",
      "metadata": {
        "id": "CsAB-b27b63F",
        "colab_type": "text"
      },
      "source": [
        "## Ordenar los datos"
      ]
    },
    {
      "cell_type": "code",
      "metadata": {
        "id": "P_UotMLSnUEq",
        "colab_type": "code",
        "colab": {
          "base_uri": "https://localhost:8080/",
          "height": 85
        },
        "outputId": "7e345478-679b-4d62-e011-5b2da2b0ba09"
      },
      "source": [
        "nr_phrases_train = len(data_name_train)\n",
        "nr_phrases_test = len(data_name_test)\n",
        "\n",
        "print('Nr of phrases (train): ', nr_phrases_train)\n",
        "print('Nr of phrases (test): ', nr_phrases_test)\n",
        "\n",
        "data_set_train_phrases = np.split(data_set_train, data_end_index_train)[:-1] # Last item is empty\n",
        "data_set_test_phrases = np.split(data_set_test, data_end_index_test)[:-1]\n",
        "\n",
        "print('Train: split data into {} phrases.'.format(len(data_set_train_phrases)))\n",
        "print('Test: split data into {} phrases.'.format(len(data_set_test_phrases)))"
      ],
      "execution_count": 4,
      "outputs": [
        {
          "output_type": "stream",
          "text": [
            "Nr of phrases (train):  3696\n",
            "Nr of phrases (test):  192\n",
            "Train: split data into 3696 phrases.\n",
            "Test: split data into 192 phrases.\n"
          ],
          "name": "stdout"
        }
      ]
    },
    {
      "cell_type": "code",
      "metadata": {
        "id": "HB-SVLw2QdDx",
        "colab_type": "code",
        "colab": {
          "base_uri": "https://localhost:8080/",
          "height": 153
        },
        "outputId": "767eeaee-242e-46cb-a57a-6e7dd1d36624"
      },
      "source": [
        "num_coef = 13\n",
        "\n",
        "# Divide data into input (x) y output (y)\n",
        "x_train = [data_set_train[:,:-1] for data_set_train in data_set_train_phrases]\n",
        "y_train = [data_set_train[:,-1].transpose() for data_set_train in data_set_train_phrases]\n",
        "x_test = [data_set_test[:,:-1] for data_set_test in data_set_test_phrases]\n",
        "y_test = [data_set_test[:,-1].transpose() for data_set_test in data_set_test_phrases]\n",
        "\n",
        "# Add batch dimension to inputs\n",
        "x_train = [x.reshape((1, -1, num_coef )) for x in x_train]\n",
        "x_test = [x.reshape(1, -1, num_coef) for x in x_test]\n",
        "\n",
        "print('x_train shape: ', x_train[0].shape)\n",
        "print('x_test shape: ', x_test[0].shape)\n",
        "\n",
        "# Transform to tensor\n",
        "x_train = [torch.from_numpy(phrase).requires_grad_().type(torch.FloatTensor) for phrase in x_train]\n",
        "y_train = [torch.from_numpy(phrase).type(torch.LongTensor) for phrase in y_train]\n",
        "x_test = [torch.from_numpy(phrase).requires_grad_().type(torch.FloatTensor) for phrase in x_test]\n",
        "y_test = [torch.from_numpy(phrase).type(torch.LongTensor) for phrase in y_test]\n",
        "\n",
        "print('x_train shape: ', x_train[0].shape)\n",
        "print('x_test shape: ', x_test[0].shape)\n",
        "\n",
        "# Save in Device\n",
        "x_train = [phrase.to(device) for phrase in x_train]\n",
        "y_train = [phrase.to(device) for phrase in y_train]\n",
        "x_test = [phrase.to(device) for phrase in x_test]\n",
        "y_test = [phrase.to(device) for phrase in y_test]\n",
        "\n",
        "# Get size of tran and test set\n",
        "train_size = len(x_train)\n",
        "test_size = len(x_test)\n",
        "\n",
        "print(\"--Train data\")\n",
        "print(\"Number of samples: \", train_size)\n",
        "\n",
        "print(\"--Test data\")\n",
        "print(\"Number of samples: \", test_size)"
      ],
      "execution_count": 5,
      "outputs": [
        {
          "output_type": "stream",
          "text": [
            "x_train shape:  (1, 90, 13)\n",
            "x_test shape:  (1, 129, 13)\n",
            "x_train shape:  torch.Size([1, 90, 13])\n",
            "x_test shape:  torch.Size([1, 129, 13])\n",
            "--Train data\n",
            "Number of samples:  3696\n",
            "--Test data\n",
            "Number of samples:  192\n"
          ],
          "name": "stdout"
        }
      ]
    },
    {
      "cell_type": "code",
      "metadata": {
        "id": "nEBs8WiBs1S2",
        "colab_type": "code",
        "colab": {
          "base_uri": "https://localhost:8080/",
          "height": 34
        },
        "outputId": "2bd83ae2-1d80-4a82-bb97-a5c640d43828"
      },
      "source": [
        "print(x_test[0].shape)"
      ],
      "execution_count": 6,
      "outputs": [
        {
          "output_type": "stream",
          "text": [
            "torch.Size([1, 129, 13])\n"
          ],
          "name": "stdout"
        }
      ]
    },
    {
      "cell_type": "markdown",
      "metadata": {
        "id": "a8pspdEXmIoN",
        "colab_type": "text"
      },
      "source": [
        "## Definir la clase MLP"
      ]
    },
    {
      "cell_type": "code",
      "metadata": {
        "id": "I6gS6g5eMGDF",
        "colab_type": "code",
        "colab": {}
      },
      "source": [
        "class BRNN(nn.Module):\n",
        "  def __init__(self, input_size, hidden_size, nr_layers, output_size):\n",
        "    super(BRNN, self).__init__()\n",
        "    self.input_size = input_size\n",
        "    self.hidden_size = hidden_size\n",
        "    self.output_size = output_size\n",
        "    self.nr_layers = nr_layers # Recurrent layers\n",
        "\n",
        "    # Hidden layer\n",
        "    self.rnn = nn.RNN(self.input_size, self.hidden_size, self.nr_layers, batch_first=True, bidirectional=True, bias=True)\n",
        "    \n",
        "    # Output Layer\n",
        "    self.fc = torch.nn.Linear(self.hidden_size*2, self.output_size, bias=True)\n",
        "\n",
        "  def forward(self, x, hidden=None):\n",
        "    batch_size = x.shape[0]\n",
        "\n",
        "    if hidden is None:\n",
        "      hidden = self.init_hidden(x)\n",
        "    # Set initial states\n",
        "    #h0 = torch.zeros(self.nr_layers*2, x.size(0), self.hidden_size).requires_grad_().to(device)\n",
        "    \n",
        "    out, hidden = self.rnn(x, hidden)\n",
        "    #print('OUT of rnn IS: ', out.shape) # It has 370 outputs due to hidden units\n",
        "    #print('hidden of rnn IS: ', out.shape)\n",
        "    out = self.fc(out.squeeze(0)) # Decode the hidden state of the last time step # TODO: is this okay, maybe I should use last t\n",
        "    #print('OUT of rnn linear IS: ', out.shape)\n",
        "    #print(out)\n",
        "    return out, hidden\n",
        "\n",
        "  def init_hidden(self,x):\n",
        "    # TODO: is this dimension okay?? maybe the size(0) should be in the first position\n",
        "    return torch.zeros(self.nr_layers*2, x.size(0), self.hidden_size).requires_grad_().to(device)"
      ],
      "execution_count": 7,
      "outputs": []
    },
    {
      "cell_type": "markdown",
      "metadata": {
        "id": "4jQOdjojoj4D",
        "colab_type": "text"
      },
      "source": [
        "## Instanciar un modelo BRNN"
      ]
    },
    {
      "cell_type": "code",
      "metadata": {
        "id": "X3UbBXfIWW_A",
        "colab_type": "code",
        "colab": {
          "base_uri": "https://localhost:8080/",
          "height": 102
        },
        "outputId": "0c957f54-3017-401c-d314-e749298bf71e"
      },
      "source": [
        "NR_PHONEMES = 61\n",
        "input_size = num_coef # Number of coefficients\n",
        "hidden_size = 185 # Specified by Graves\n",
        "output_size = NR_PHONEMES # Number of phonemes\n",
        "layer_size = 2 # Two hidden layers\n",
        "\n",
        "\n",
        "print(\"Creating MLP model with parameters:\")\n",
        "print(\"Input size: \", input_size)\n",
        "print(\"Hidden size: \", hidden_size)\n",
        "print(\"Layer size: \", layer_size)\n",
        "print(\"Output size: \", output_size)\n",
        "\n",
        "model = BRNN(input_size, hidden_size, layer_size, output_size)\n",
        "model = model.to(device)"
      ],
      "execution_count": 8,
      "outputs": [
        {
          "output_type": "stream",
          "text": [
            "Creating MLP model with parameters:\n",
            "Input size:  13\n",
            "Hidden size:  185\n",
            "Layer size:  2\n",
            "Output size:  61\n"
          ],
          "name": "stdout"
        }
      ]
    },
    {
      "cell_type": "code",
      "metadata": {
        "colab_type": "code",
        "id": "2BGkZTdgScE6",
        "colab": {}
      },
      "source": [
        "learning_rate = 10e-5 # Specified by Graves\n",
        "momentum = 0.9\n",
        "\n",
        "cost_function = nn.CrossEntropyLoss()\n",
        "optimizer = torch.optim.SGD(model.parameters(), lr=learning_rate, momentum=momentum)"
      ],
      "execution_count": 9,
      "outputs": []
    },
    {
      "cell_type": "markdown",
      "metadata": {
        "id": "zSl6nvoJo6pC",
        "colab_type": "text"
      },
      "source": [
        "Ver Loss antes de entrenar"
      ]
    },
    {
      "cell_type": "code",
      "metadata": {
        "id": "Ar78LCNTNhb9",
        "colab_type": "code",
        "colab": {
          "base_uri": "https://localhost:8080/",
          "height": 51
        },
        "outputId": "bd5e55cf-ec0c-452b-c777-4df2a6642d36"
      },
      "source": [
        "# See the loss before training\n",
        "model.eval()\n",
        "\n",
        "total_loss = 0\n",
        "nr_correct_frames = 0\n",
        "nr_total_frames = 0\n",
        "\n",
        "hidden = None\n",
        "for (x_test_phrase, y_test_phrase) in zip(x_test, y_test):\n",
        "  #x_test_phrase = x_test_phrase.reshape(-1, x_test_phrase.size(0), input_size)\n",
        "  #x_test_phrase = x_test_phrase.to(device)\n",
        "  #print(x_test_phrase.shape)\n",
        "  output_test, _ = model(x_test_phrase, hidden)\n",
        "  #print('y pred: ', output_test.shape)\n",
        "  #print('y_test: ', y_test_phrase.shape)\n",
        "  total_loss += cost_function(output_test, y_test_phrase)\n",
        "\n",
        "  # TODO: quizas usando squeeze y unsqueeze\n",
        "  # Correct samples\n",
        "  y_prediction_test = torch.argmax(output_test, dim=1)\n",
        "  nr_correct_frames += int((y_prediction_test == y_test_phrase).sum())\n",
        "  nr_total_frames += len(y_test_phrase)\n",
        "\n",
        "before_train_loss = total_loss/test_size\n",
        "print('Before train Loss:', before_train_loss.item())\n",
        "\n",
        "perc_correct = nr_correct_frames/nr_total_frames*100\n",
        "print(\"Correct frames percentage: \", perc_correct)\n"
      ],
      "execution_count": 10,
      "outputs": [
        {
          "output_type": "stream",
          "text": [
            "Before train Loss: 4.1221418380737305\n",
            "Correct frames percentage:  1.3760596695384935\n"
          ],
          "name": "stdout"
        }
      ]
    },
    {
      "cell_type": "markdown",
      "metadata": {
        "id": "En0ymTu5tRaB",
        "colab_type": "text"
      },
      "source": [
        "### Training time"
      ]
    },
    {
      "cell_type": "code",
      "metadata": {
        "id": "TpTIShCEyVy7",
        "colab_type": "code",
        "colab": {
          "base_uri": "https://localhost:8080/",
          "height": 610,
          "referenced_widgets": [
            "8faf0009460147b4a0ea4b65e413b437",
            "7390044005684d118786f897e69179a0",
            "ab6ae686679e4fee8c697f7cc9bf9e2e",
            "b8fd2356b6d04cd6aaa2b78b424b6d3b",
            "a23afa755f344a5f961dd69c9225eb5f",
            "772de7aaaf894f4a8b1139bebbd1f295",
            "5fa4c1efe358440ead34ba469a16af3d",
            "e3c40430fb1a4cb48a5df726946cf7be"
          ]
        },
        "outputId": "49c72d97-dabf-4c26-c91d-d30eb3e356c9"
      },
      "source": [
        "import time\n",
        "torch.autograd.set_detect_anomaly(True)\n",
        "\n",
        "nr_epochs = 20\n",
        "epoch_losses_train = []\n",
        "epoch_losses_test = []\n",
        "epoch_correct_frames_train = []\n",
        "epoch_correct_frames_test = []\n",
        "\n",
        "start_time = time.time()\n",
        "# TODO: initial weights? Graves: from flat distribution between -0.1 and 0.1\n",
        "for epoch in range(nr_epochs):\n",
        "  print(f'EPOCH #{epoch+1}')\n",
        "  #=========Train ==============#\n",
        "  model.train()\n",
        "  hidden = None\n",
        "  # Variables used to get the percentage of correct frames\n",
        "  nr_correct_frames = 0\n",
        "  nr_total_frames = 0\n",
        "\n",
        "  epoch_total_loss = 0\n",
        "\n",
        "  # Randomize the order of phrases for each epoch\n",
        "  random_idxs = np.random.permutation(train_size)\n",
        "  \n",
        "  for i in tqdm.notebook.tqdm(random_idxs):\n",
        "    print(x_train[i].shape)\n",
        "    # Forward pass\n",
        "    y_pred, hidden = model(x_train[i], hidden)\n",
        "    \n",
        "    # Compute loss\n",
        "    loss = cost_function(y_pred, y_train[i])\n",
        "    epoch_total_loss += loss.item()\n",
        "\n",
        "    # Get number of Correct franmes\n",
        "    y_pred_labels = torch.argmax(y_pred, dim=1)\n",
        "    nr_correct_frames += int((y_pred_labels == y_train[i]).sum())\n",
        "    nr_total_frames += len(y_train[i])\n",
        "\n",
        "    # Backward pass\n",
        "    optimizer.zero_grad() # Clear grads before doing backward\n",
        "    loss.backward(retain_graph=True)\n",
        "    optimizer.step()\n",
        "  \n",
        "  # Epoch training results\n",
        "  epoch_loss_train = epoch_total_loss/train_size\n",
        "  perc_correct_train = nr_correct_frames/nr_total_frames*100\n",
        "  print(f'Train loss: {epoch_loss}')\n",
        "  print(\"Correct frames percentage: \", perc_correct_train)\n",
        "\n",
        "  # =====See test results========#\n",
        "  model.eval()\n",
        "  print('Test results: ')\n",
        "  nr_correct_test = 0\n",
        "  nr_total_test = 0\n",
        "\n",
        "  epoch_total_loss_test = 0\n",
        "\n",
        "  for (x_test_phrase, y_test_phrase) in zip(x_test, y_test):\n",
        "    output_test = model(x_test_phrase)\n",
        "    after_train_loss = cost_function(output_test, y_test_phrase)\n",
        "    epoch_total_loss += after_train_loss.item()\n",
        "    # Correct frames\n",
        "    y_prediction_test = torch.argmax(output_test, dim=1)\n",
        "    nr_correct_test += int((y_prediction_test == y_test_phrase).sum())\n",
        "    nr_total_test += len(y_test_phrase)\n",
        "\n",
        "  perc_correct_test = nr_correct_test/nr_total_test*100\n",
        "  epoch_loss_test = epoch_total_loss/test_size\n",
        "  print(\"Percentage of Correct: \", perc_correct_test)\n",
        "  print(\"After train loss: \", after_train_loss.item())\n",
        "\n",
        "  # Append epoch results \n",
        "  epoch_losses_train.append(epoch_loss_train)\n",
        "  epoch_losses_test.append(epoch_loss_test)\n",
        "  epoch_correct_frames_train.append(perc_correct_train)\n",
        "  epoch_correct_frames_test.append(perc_correct_test)\n",
        "\n",
        "  print()\n",
        "\n",
        "\n",
        "print('Done training')\n",
        "print()\n",
        "end_time = time.time()\n",
        "\n",
        "duration = end_time - start_time\n",
        "\n",
        "print(f'Total training time: {duration} seconds')\n",
        "\n",
        "# Save model\n",
        "import pandas as pd\n",
        "from datetime import date\n",
        "\n",
        "epoch_info = pd.DataFrame({'loss_train': epoch_losses_train, 'loss_test': epoch_losses_test, 'correct_frames_train': epoch_correct_frames_train, 'correct_frames_test': epoch_correct_frames_test, 'trainig_duration': duration})\n",
        "\n",
        "suffix = ''\n",
        "root_path = '/content/gdrive/My Drive/Tesis/models/BRNN/'\n",
        "date_of_training = str(date.today())\n",
        "filename = date_of_training + '_' + str(nr_epochs) + 'epochs' + suffix\n",
        "\n",
        "model_filepath = root_path + 'model_' + filename + '.pt'\n",
        "epoch_info_filepath = root_path + 'epoch_info_' + filename + '.csv'\n",
        "\n",
        "torch.save(model, model_filepath)\n",
        "epoch_info.to_csv(epoch_info_filepath)"
      ],
      "execution_count": 11,
      "outputs": [
        {
          "output_type": "stream",
          "text": [
            "EPOCH #1\n"
          ],
          "name": "stdout"
        },
        {
          "output_type": "display_data",
          "data": {
            "application/vnd.jupyter.widget-view+json": {
              "model_id": "8faf0009460147b4a0ea4b65e413b437",
              "version_minor": 0,
              "version_major": 2
            },
            "text/plain": [
              "HBox(children=(FloatProgress(value=0.0, max=3696.0), HTML(value='')))"
            ]
          },
          "metadata": {
            "tags": []
          }
        },
        {
          "output_type": "stream",
          "text": [
            "torch.Size([1, 242, 13])\n",
            "torch.Size([1, 317, 13])\n",
            "\n"
          ],
          "name": "stdout"
        },
        {
          "output_type": "error",
          "ename": "RuntimeError",
          "evalue": "ignored",
          "traceback": [
            "\u001b[0;31m---------------------------------------------------------------------------\u001b[0m",
            "\u001b[0;31mRuntimeError\u001b[0m                              Traceback (most recent call last)",
            "\u001b[0;32m<ipython-input-11-6bd4ad619e74>\u001b[0m in \u001b[0;36m<module>\u001b[0;34m()\u001b[0m\n\u001b[1;32m     40\u001b[0m     \u001b[0;31m# Backward pass\u001b[0m\u001b[0;34m\u001b[0m\u001b[0;34m\u001b[0m\u001b[0;34m\u001b[0m\u001b[0m\n\u001b[1;32m     41\u001b[0m     \u001b[0moptimizer\u001b[0m\u001b[0;34m.\u001b[0m\u001b[0mzero_grad\u001b[0m\u001b[0;34m(\u001b[0m\u001b[0;34m)\u001b[0m \u001b[0;31m# Clear grads before doing backward\u001b[0m\u001b[0;34m\u001b[0m\u001b[0;34m\u001b[0m\u001b[0m\n\u001b[0;32m---> 42\u001b[0;31m     \u001b[0mloss\u001b[0m\u001b[0;34m.\u001b[0m\u001b[0mbackward\u001b[0m\u001b[0;34m(\u001b[0m\u001b[0mretain_graph\u001b[0m\u001b[0;34m=\u001b[0m\u001b[0;32mTrue\u001b[0m\u001b[0;34m)\u001b[0m\u001b[0;34m\u001b[0m\u001b[0;34m\u001b[0m\u001b[0m\n\u001b[0m\u001b[1;32m     43\u001b[0m     \u001b[0moptimizer\u001b[0m\u001b[0;34m.\u001b[0m\u001b[0mstep\u001b[0m\u001b[0;34m(\u001b[0m\u001b[0;34m)\u001b[0m\u001b[0;34m\u001b[0m\u001b[0;34m\u001b[0m\u001b[0m\n\u001b[1;32m     44\u001b[0m \u001b[0;34m\u001b[0m\u001b[0m\n",
            "\u001b[0;32m/usr/local/lib/python3.6/dist-packages/torch/tensor.py\u001b[0m in \u001b[0;36mbackward\u001b[0;34m(self, gradient, retain_graph, create_graph)\u001b[0m\n\u001b[1;32m    183\u001b[0m                 \u001b[0mproducts\u001b[0m\u001b[0;34m.\u001b[0m \u001b[0mDefaults\u001b[0m \u001b[0mto\u001b[0m\u001b[0;31m \u001b[0m\u001b[0;31m`\u001b[0m\u001b[0;31m`\u001b[0m\u001b[0;32mFalse\u001b[0m\u001b[0;31m`\u001b[0m\u001b[0;31m`\u001b[0m\u001b[0;34m.\u001b[0m\u001b[0;34m\u001b[0m\u001b[0;34m\u001b[0m\u001b[0m\n\u001b[1;32m    184\u001b[0m         \"\"\"\n\u001b[0;32m--> 185\u001b[0;31m         \u001b[0mtorch\u001b[0m\u001b[0;34m.\u001b[0m\u001b[0mautograd\u001b[0m\u001b[0;34m.\u001b[0m\u001b[0mbackward\u001b[0m\u001b[0;34m(\u001b[0m\u001b[0mself\u001b[0m\u001b[0;34m,\u001b[0m \u001b[0mgradient\u001b[0m\u001b[0;34m,\u001b[0m \u001b[0mretain_graph\u001b[0m\u001b[0;34m,\u001b[0m \u001b[0mcreate_graph\u001b[0m\u001b[0;34m)\u001b[0m\u001b[0;34m\u001b[0m\u001b[0;34m\u001b[0m\u001b[0m\n\u001b[0m\u001b[1;32m    186\u001b[0m \u001b[0;34m\u001b[0m\u001b[0m\n\u001b[1;32m    187\u001b[0m     \u001b[0;32mdef\u001b[0m \u001b[0mregister_hook\u001b[0m\u001b[0;34m(\u001b[0m\u001b[0mself\u001b[0m\u001b[0;34m,\u001b[0m \u001b[0mhook\u001b[0m\u001b[0;34m)\u001b[0m\u001b[0;34m:\u001b[0m\u001b[0;34m\u001b[0m\u001b[0;34m\u001b[0m\u001b[0m\n",
            "\u001b[0;32m/usr/local/lib/python3.6/dist-packages/torch/autograd/__init__.py\u001b[0m in \u001b[0;36mbackward\u001b[0;34m(tensors, grad_tensors, retain_graph, create_graph, grad_variables)\u001b[0m\n\u001b[1;32m    125\u001b[0m     Variable._execution_engine.run_backward(\n\u001b[1;32m    126\u001b[0m         \u001b[0mtensors\u001b[0m\u001b[0;34m,\u001b[0m \u001b[0mgrad_tensors\u001b[0m\u001b[0;34m,\u001b[0m \u001b[0mretain_graph\u001b[0m\u001b[0;34m,\u001b[0m \u001b[0mcreate_graph\u001b[0m\u001b[0;34m,\u001b[0m\u001b[0;34m\u001b[0m\u001b[0;34m\u001b[0m\u001b[0m\n\u001b[0;32m--> 127\u001b[0;31m         allow_unreachable=True)  # allow_unreachable flag\n\u001b[0m\u001b[1;32m    128\u001b[0m \u001b[0;34m\u001b[0m\u001b[0m\n\u001b[1;32m    129\u001b[0m \u001b[0;34m\u001b[0m\u001b[0m\n",
            "\u001b[0;31mRuntimeError\u001b[0m: one of the variables needed for gradient computation has been modified by an inplace operation: [torch.cuda.FloatTensor [185, 13]] is at version 2; expected version 1 instead. Hint: the backtrace further above shows the operation that failed to compute its gradient. The variable in question was changed in there or anywhere later. Good luck!"
          ]
        }
      ]
    },
    {
      "cell_type": "markdown",
      "metadata": {
        "id": "BL7F_-XvtaOz",
        "colab_type": "text"
      },
      "source": [
        "### See Loss after training"
      ]
    },
    {
      "cell_type": "code",
      "metadata": {
        "id": "T0Of9BH4EiUW",
        "colab_type": "code",
        "colab": {
          "base_uri": "https://localhost:8080/",
          "height": 71
        },
        "outputId": "33832de8-a0c2-4a09-ad36-8dee5feb37e5"
      },
      "source": [
        "# Save model\n",
        "import pandas as pd\n",
        "from datetime import date\n",
        "\n",
        "epoch_info = pd.DataFrame({'loss_train': epoch_losses_train, 'loss_test': epoch_losses_test, 'correct_frames_train': epoch_correct_frames_train, 'correct_frames_test': epoch_correct_frames_test, 'training_duration': duration})\n",
        "\n",
        "suffix = ''\n",
        "root_path = '/content/gdrive/My Drive/Tesis/models/'\n",
        "date_of_training = str(date.today())\n",
        "filename = date_of_training + '_' + str(nr_epochs) + 'epochs' + suffix\n",
        "\n",
        "model_filepath = root_path + 'model_' + filename + '.pt'\n",
        "epoch_info_filepath = root_path + 'epoch_info_' + filename + '.csv'\n",
        "\n",
        "torch.save(model, model_filepath)\n",
        "epoch_info.to_csv(epoch_info_filepath)"
      ],
      "execution_count": null,
      "outputs": [
        {
          "output_type": "stream",
          "text": [
            "/usr/local/lib/python3.6/dist-packages/torch/serialization.py:402: UserWarning: Couldn't retrieve source code for container of type MultiLayerPerceptron. It won't be checked for correctness upon loading.\n",
            "  \"type \" + obj.__name__ + \". It won't be checked \"\n"
          ],
          "name": "stderr"
        }
      ]
    },
    {
      "cell_type": "code",
      "metadata": {
        "id": "a20Dr3qRRdFd",
        "colab_type": "code",
        "colab": {}
      },
      "source": [
        "# Load model\n",
        "model = torch.load(model_filepath, map_location=device)\n",
        "epoch_info = pd.read_csv(epoch_info_filepath)"
      ],
      "execution_count": null,
      "outputs": []
    },
    {
      "cell_type": "code",
      "metadata": {
        "id": "LBC3a4WCDlkm",
        "colab_type": "code",
        "colab": {
          "base_uri": "https://localhost:8080/",
          "height": 51
        },
        "outputId": "3804c1f0-97d9-44d6-ec0b-200c38f261a7"
      },
      "source": [
        "# See the loss After training\n",
        "model.eval()\n",
        "\n",
        "nr_correct = 0\n",
        "nr_total = 0\n",
        "for (x_test_phrase, y_test_phrase) in zip(x_test, y_test):\n",
        "  output_test = model(x_test_phrase)\n",
        "  after_train_loss = cost_function(output_test, y_test_phrase)\n",
        "  \n",
        "  # Correct samples\n",
        "  y_prediction_test = torch.argmax(output_test, dim=1)\n",
        "  nr_correct += int((y_prediction_test == y_test_phrase).sum())\n",
        "  nr_total += len(y_test_phrase)\n",
        "\n",
        "perc_correct = nr_correct/nr_total*100\n",
        "print(\"Percentage of Correct: \", perc_correct)\n",
        "print(\"After train loss: \", after_train_loss.item())"
      ],
      "execution_count": null,
      "outputs": [
        {
          "output_type": "stream",
          "text": [
            "Percentage of Correct:  44.479179260436275\n",
            "After train loss:  1.761474609375\n"
          ],
          "name": "stdout"
        }
      ]
    },
    {
      "cell_type": "markdown",
      "metadata": {
        "id": "BueyIGk_9Qaf",
        "colab_type": "text"
      },
      "source": [
        "## Plots"
      ]
    },
    {
      "cell_type": "code",
      "metadata": {
        "id": "XED94U7wSPs0",
        "colab_type": "code",
        "colab": {
          "base_uri": "https://localhost:8080/",
          "height": 316
        },
        "outputId": "5dd7d008-9173-4d21-c3bd-70c828a3cf88"
      },
      "source": [
        "# Learning Curve\n",
        "\n",
        "import matplotlib\n",
        "import matplotlib.pyplot as plt\n",
        "plt.style.use('ggplot')\n",
        "\n",
        "fig, ax = plt.subplots()\n",
        "epochs = np.arange(1,nr_epochs+1)\n",
        "ax.plot(epochs, epoch_info['correct_frames_train'], '--s', label='MLP training set')\n",
        "ax.plot(epochs, epoch_info['correct_frames_test'], '--o', markerfacecolor='None', label='MLP test set')\n",
        "\n",
        "training_time = epoch_info['trainig_duration'][0]\n",
        "ax.set(xlabel='Training Epochs', ylabel='% Frames Correctly Classified',\n",
        "       title='Learning Curve for MLP architecture')\n",
        "\n",
        "learning_curve_filepath = root_path +'learning_curve_' + filename + '.png'\n",
        "plt.legend()\n",
        "fig.savefig(learning_curve_filepath)\n",
        "plt.show()\n",
        "\n"
      ],
      "execution_count": null,
      "outputs": [
        {
          "output_type": "display_data",
          "data": {
            "image/png": "[encoded data removed]",
            "text/plain": [
              "<Figure size 432x288 with 1 Axes>"
            ]
          },
          "metadata": {
            "tags": []
          }
        },
        {
          "output_type": "stream",
          "text": [
            "Training time:  532.2373199462891\n"
          ],
          "name": "stdout"
        }
      ]
    }
  ]
}